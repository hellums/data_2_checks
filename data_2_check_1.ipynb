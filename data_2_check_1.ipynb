{
  "cells": [
    {
      "cell_type": "markdown",
      "metadata": {
        "id": "OHooM-dS3laJ"
      },
      "source": [
        "**Your Instructions:**\n",
        "\n",
        "*To complete the first knowledge check, do the following:*\n",
        "\n",
        "* Create a GitHub repo called \"data_1_checks\". You will upload ALL knowledge checks to this repo in the future.\n",
        "\n",
        "* Send that link to your mentor so they can check it when you finish the assignment.\n",
        "\n",
        "* Make a .py (or .ipynb) file that contains the following (your choice of editor does not matter!) and do the following:\n",
        "\n",
        "* Pull in data from an API. Here's a list of public APIs that don't require Auth keys, though if you have another API you want to use feel free: https://apipheny.io/free-api/\n",
        "\n",
        "* Find and print TWO descriptive statistics about your data. This can be absolutely anything, from the mean() or sum() of a column to the number of different categories, to the number of null values in a column. We just want to see two pieces of information.\n",
        "\n",
        "* Write a query in Pandas to select a particular set of your data. You can use a mask or with .query(), but we want you to pull out a subset based on any parameter you like. This could be \"show me every row where HTTPS=False\" or anything else.\n",
        "\n",
        "* Select and print the SECOND AND THIRD columns of your data frame.\n",
        "\n",
        "* Select and print the FIRST 4 rows of you data frame.\n",
        "\n",
        "* Commit your changes.\n",
        "\n",
        "- Push your changes to your repo and notify your mentor!"
      ]
    },
    {
      "cell_type": "markdown",
      "metadata": {
        "id": "5AemuEx15U8j"
      },
      "source": []
    },
    {
      "cell_type": "code",
      "execution_count": 1,
      "metadata": {
        "id": "VDis15rH5Wvq"
      },
      "outputs": [],
      "source": [
        "#Duane Hellums, Code Louisville, 11:20 AM, 5/19/22"
      ]
    },
    {
      "cell_type": "code",
      "execution_count": 2,
      "metadata": {
        "id": "jFuCd9wC3iXn"
      },
      "outputs": [],
      "source": [
        "import requests\n",
        "import json\n",
        "import pandas as pd"
      ]
    },
    {
      "cell_type": "code",
      "execution_count": 3,
      "metadata": {
        "id": "7RxhmyX9r4wL"
      },
      "outputs": [],
      "source": [
        "r = requests.get('https://deperu.com/api/rest/noticias.json') #download Spanish language news items from the country of Peru"
      ]
    },
    {
      "cell_type": "code",
      "execution_count": 4,
      "metadata": {
        "id": "ZHRDWYBEy9Nn"
      },
      "outputs": [],
      "source": [
        "json_data = json.loads(r.text) #grab the json data from the page response"
      ]
    },
    {
      "cell_type": "code",
      "execution_count": 5,
      "metadata": {
        "colab": {
          "base_uri": "https://localhost:8080/"
        },
        "id": "0OEGMnOVr475",
        "outputId": "8e0abb6b-410b-46ec-8940-84e43b4a54ed"
      },
      "outputs": [
        {
          "name": "stdout",
          "output_type": "stream",
          "text": [
            "[{'titulo': 'Italia incauta bienes del gigante ruso de aviación United Aircraft Corporation', 'resumen': 'Italia anunció este jueves la confiscación de aviones y fondos vinculados al gigante de la aviación estatal ruso United Aircraft Corporation (UAC) como parte de las sanciones europeas contra entidades vinculadas al gobierno de Vladimir Putin.', 'palsclave': 'Italia, Rusia, Ucrania, conflicto, sanciones, aeronáutica', 'imagen': 'https://cdn.deperu.com/afp/fotos/b0cc953ec3339fd0e4df8f8e3275451b91529ff1.jpg', 'imagenpeque': 'https://cdn.deperu.com/afp/fotos/279da64dbd866aeeb1758a27c5ec404c117af1f7.jpg', 'url': 'https://www.deperu.com/noticias/italia-incauta-bienes-del-gigante-ruso-de-aviacion-united-aircraft-corporation-118464.html', 'fecha': 'Thu, 19 May 2022 09:52:21 -0500'}, {'titulo': \"McDonald's llega a un acuerdo para vender su negocio en Rusia\", 'resumen': None, 'palsclave': 'US, Russia, food, restaurant, McDonalds', 'imagen': 'https://cdn.deperu.com/afp/fotos/2623fc5389c9e79be1bd306d7f9eb9b05c05eb73.jpg', 'imagenpeque': 'https://cdn.deperu.com/afp/fotos/64eb3a6c948bdfdc7fb8e6d65bc38a039d63d7a0.jpg', 'url': 'https://www.deperu.com/noticias/mcdonalds-llega-a-un-acuerdo-para-vender-su-negocio-en-rusia-118465.html', 'fecha': 'Thu, 19 May 2022 09:46:45 -0500'}, {'titulo': 'Jefe del OIEA ensalza \"avances notables\" en las obras de la central de Fukushima', 'resumen': 'El proceso de desmantelamiento de la central nuclear de Fukushima de Japón, dañada por un tsunami en 2011, registró \"avances notables\", consideró este jueves el director del Organismo Internacional de la Energía Atómica (OIEA) Rafael Grossi, tras visitar el lugar.', 'palsclave': 'nuclear, Japan, IAEA', 'imagen': 'https://cdn.deperu.com/afp/fotos/2446d22bcf337b2c91a551d27bf5a7fe95e182c9.jpg', 'imagenpeque': 'https://cdn.deperu.com/afp/fotos/b669465a76ecc722ef6d0a1a679a51ebf579db6b.jpg', 'url': 'https://www.deperu.com/noticias/jefe-del-oiea-ensalza-avances-notables-en-las-obras-de-la-central-de-fukushima-118460.html', 'fecha': 'Thu, 19 May 2022 09:17:08 -0500'}, {'titulo': 'El gigante energético francés EDF rebaja su previsión de resultados por la corrosión en sus centrales nucleares', 'resumen': 'El gigante energético francés EDF revisó este jueves a la baja su previsión de resultados para 2022 por los problemas de corrosión en sus centrales nucleares, que le obligaron a suspender el funcionamiento de 12 reactores.', 'palsclave': 'Francia, energía, utilidades, nuclear, política', 'imagen': 'https://cdn.deperu.com/afp/fotos/876c43ac70e72a0b5f8feb3017d4867207fbf207.jpg', 'imagenpeque': 'https://cdn.deperu.com/afp/fotos/92608b4364881b0eb5e9d84dd75b9c8909ee8082.jpg', 'url': 'https://www.deperu.com/noticias/el-gigante-energetico-frances-edf-rebaja-su-prevision-de-resultados-por-la-corrosion-en-sus-centrales-nucleares-118466.html', 'fecha': 'Thu, 19 May 2022 09:10:33 -0500'}, {'titulo': 'Raros brotes de viruela del mono detectados en Norteamérica y Europa', 'resumen': 'Las autoridades sanitarias de Norteamérica y Europa han detectado decenas de casos sospechosos o confirmados de viruela del mono desde el inicio de mayo, lo que hace temer que la enfermedad, endémica en algunas zonas de África, se esté expandiendo. ', 'palsclave': 'Canada, US, health, virus, monkeypox', 'imagen': 'https://cdn.deperu.com/afp/fotos/6df5debc028d39a22e05724cc55c9a66cccf40f3.jpg', 'imagenpeque': 'https://cdn.deperu.com/afp/fotos/f0ea275ac74498ee5c05c137653c317e1e3e3631.jpg', 'url': 'https://www.deperu.com/noticias/raros-brotes-de-viruela-del-mono-detectados-en-norteamerica-y-europa-118463.html', 'fecha': 'Thu, 19 May 2022 08:30:22 -0500'}, {'titulo': 'La filial rusa de Google planea declararse en quiebra', 'resumen': 'La filial rusa de Google anunció su intención de declararse en quiebra después de que las autoridades de ese país incautaran su cuenta bancaria, pero indicó que seguirá suministrando sus servicios gratuitos.', 'palsclave': 'Rusia, EEUU, conflicto, Ucrania, internet', 'imagen': 'https://cdn.deperu.com/afp/fotos/8b4eea9c9acc11ce47cedc83da0dd99419508e06.jpg', 'imagenpeque': 'https://cdn.deperu.com/afp/fotos/c0abd33fa524d96c931b3d9f6129fade64a85599.jpg', 'url': 'https://www.deperu.com/noticias/la-filial-rusa-de-google-planea-declararse-en-quiebra-118459.html', 'fecha': 'Thu, 19 May 2022 08:09:14 -0500'}, {'titulo': 'Sri Lanka no podrá comenzar a pagar su deuda hasta dentro de seis meses', 'resumen': 'Sri Lanka no podrá comenzar a pagar su deuda antes de seis meses, anunció el jueves el Banco Central del país en mora. ', 'palsclave': 'SriLanka, deuda, FMI, economía', 'imagen': 'https://cdn.deperu.com/afp/fotos/59bd24292e3ab13fdfddd40a460f335e8b76fb13.jpg', 'imagenpeque': 'https://cdn.deperu.com/afp/fotos/b8d7123c6e6df5c8364739f56f87acffca9c71e8.jpg', 'url': 'https://www.deperu.com/noticias/sri-lanka-no-podra-comenzar-a-pagar-su-deuda-hasta-dentro-de-seis-meses-118462.html', 'fecha': 'Thu, 19 May 2022 07:54:09 -0500'}, {'titulo': 'La vacuna china anticovid Convidecia recibe la aprobación de emergencia de la OMS', 'resumen': 'La Organización Mundial de la Salud anunció el jueves la aprobación de emergencia de la vacuna Convidecia de la empresa china CanSino Biologics, mientras Pekín lucha contra el resurgimiento de la pandemia de covid. ', 'palsclave': 'pandemia, farmacéutica, ONU, epidemia, China, vacunas, virus, salud', 'imagen': 'https://cdn.deperu.com/afp/fotos/3b6696de4ee7289b5bcd76be249645d712b5f7aa.jpg', 'imagenpeque': 'https://cdn.deperu.com/afp/fotos/a80339d1ef080b2a5a90ddbb0137e684541cdb2f.jpg', 'url': 'https://www.deperu.com/noticias/la-vacuna-china-anticovid-convidecia-recibe-la-aprobacion-de-emergencia-de-la-oms-118461.html', 'fecha': 'Thu, 19 May 2022 07:13:23 -0500'}, {'titulo': 'Un navío atacado frente a las costas de Yemen, según la agencia marítima británica', 'resumen': 'Un navío fue atacado frente a las costas de Yemen, en el mar Rojo, indicó este jueves la Agencia de Seguridad Marítima del Reino Unido (UKMTO). ', 'palsclave': 'Yemen, seguridad, transporte', 'imagen': 'https://cdn.deperu.com/afp/fotos/93bdaf74324b896992f7d7bd3a2aaf850398214f.jpg', 'imagenpeque': 'https://cdn.deperu.com/afp/fotos/4517b613105b1d4def634abdbda12c69f03b0a88.jpg', 'url': 'https://www.deperu.com/noticias/un-navio-atacado-frente-a-las-costas-de-yemen-segun-la-agencia-maritima-britanica-118458.html', 'fecha': 'Thu, 19 May 2022 06:36:37 -0500'}, {'titulo': 'Colmenas robotizadas en Israel para preservar a las abejas', 'resumen': 'En una comunidad agrícola de Galilea, una empresa emergente israelí ha construido colmenas robotizadas que vigilan las abejas 24 horas y permiten reducir la mortalidad de estas grandes polinizadoras, garantes de la seguridad alimentaria.', 'palsclave': 'Israël, agriculture, technologies, animaux, environnement', 'imagen': 'https://cdn.deperu.com/afp/fotos/5c0052289325c83bde85539f0d904c5048fb0d45.jpg', 'imagenpeque': 'https://cdn.deperu.com/afp/fotos/336779bec835abd498cc3ca560289db4484c0321.jpg', 'url': 'https://www.deperu.com/noticias/colmenas-robotizadas-en-israel-para-preservar-a-las-abejas-118450.html', 'fecha': 'Thu, 19 May 2022 06:30:22 -0500'}, {'titulo': 'Indonesia va a autorizar la reanudación de las exportaciones de aceite de palma', 'resumen': 'Indonesia va a autorizar a partir de la semana próxima la reanudación de las exportaciones de aceite de palma, del cual es el primer productor mundial, anunció este jueves el presidente del país del Sudeste Asiático, Joko Widodo.', 'palsclave': 'Indonesia, gobierno, mercado, exportaciones, agricultura, agua', 'imagen': 'https://cdn.deperu.com/afp/fotos/d97b6f3573a1ba0419fda3b9c0aa8fe4e1527e01.jpg', 'imagenpeque': 'https://cdn.deperu.com/afp/fotos/6431eed592f8b796b11e734d53a7c3479683f537.jpg', 'url': 'https://www.deperu.com/noticias/indonesia-va-a-autorizar-la-reanudacion-de-las-exportaciones-de-aceite-de-palma-118457.html', 'fecha': 'Thu, 19 May 2022 06:17:59 -0500'}, {'titulo': 'Italia advierte de que llevará más tiempo lograr la independencia del gas ruso', 'resumen': 'El primer ministro italiano, Mario Draghi, advirtió este jueves que Italia logrará la independiente del gas ruso hacia el segundo semestre del 2024, lo que implica más tiempo del inicialmente calculado.', 'palsclave': 'Italia, Ucrania, Rusia, conflcito, petróleo, gas', 'imagen': 'https://cdn.deperu.com/afp/fotos/d14750febc7e020e0675277b114c8d4105220b42.jpg', 'imagenpeque': 'https://cdn.deperu.com/afp/fotos/39ccd331358b555d24151871c77dfacdba47c100.jpg', 'url': 'https://www.deperu.com/noticias/italia-advierte-de-que-llevara-mas-tiempo-lograr-la-independencia-del-gas-ruso-118451.html', 'fecha': 'Thu, 19 May 2022 06:15:31 -0500'}, {'titulo': 'Primer caso de viruela del mono en Suecia', 'resumen': 'Las autoridades sanitarias suecas anunciaron la detección de un primer caso de viruela del mono en el país, tras la aparición de personas en Europa y América del Norte contagiadas de esta enfermedad habitualmente endémica en África.', 'palsclave': 'UE, Canadá, USA, enfermedad, GB, Portugal, Suecia, virus, África, salud, España', 'imagen': 'https://cdn.deperu.com/afp/fotos/6df5debc028d39a22e05724cc55c9a66cccf40f3.jpg', 'imagenpeque': 'https://cdn.deperu.com/afp/fotos/f0ea275ac74498ee5c05c137653c317e1e3e3631.jpg', 'url': 'https://www.deperu.com/noticias/primer-caso-de-viruela-del-mono-en-suecia-118453.html', 'fecha': 'Thu, 19 May 2022 06:08:38 -0500'}, {'titulo': 'China se opone al pedido de EEUU de invitar a Taiwán a la reunión anual de la OMS', 'resumen': 'China se pronunció este jueves en contra de que Taiwán participe a la reunión anual de la Organización Mundial de la Salud (OMS), después de que Estados Unidos pidiera la víspera que se invite a la isla a la luz de su \"experiencia\" en la lucha contra el covid.', 'palsclave': 'China, Taiwán, política, EEUU, salud', 'imagen': 'https://cdn.deperu.com/afp/fotos/0cbbff10a557d0b05ae78d894b75477c69451e45.jpg', 'imagenpeque': 'https://cdn.deperu.com/afp/fotos/175e49c2e40d345fe1fc921c56c4b90ba618e99f.jpg', 'url': 'https://www.deperu.com/noticias/china-se-opone-al-pedido-de-eeuu-de-invitar-a-taiwan-a-la-reunion-anual-de-la-oms-118455.html', 'fecha': 'Thu, 19 May 2022 05:16:00 -0500'}, {'titulo': 'Reino Unido sanciona a las principales aerolíneas rusas', 'resumen': 'El gobierno británico anunció el jueves nuevas sanciones contra las principales compañías aéreas rusas, entre ellas Aeroflot, prohibiéndoles revender sus franjas horarias en represalia por la invasión de Ucrania.', 'palsclave': 'GB, Rusia, Ucrania, conflicto, gobierno, diplomacia, aviación, sanción', 'imagen': 'https://cdn.deperu.com/afp/fotos/4cd2d535e6f70db2780d2424a05d34868cbf5af4.jpg', 'imagenpeque': 'https://cdn.deperu.com/afp/fotos/c00d9187a8f401ec982052630c9f0e1ace836dce.jpg', 'url': 'https://www.deperu.com/noticias/reino-unido-sanciona-a-las-principales-aerolineas-rusas-118456.html', 'fecha': 'Thu, 19 May 2022 05:08:15 -0500'}, {'titulo': 'Rusia quiere cortar a Ucrania de la central nuclear de Zaporiyia', 'resumen': 'Rusia quiere cortar a Ucrania de su central nuclear de Zaporiyia, la mayor de Europa, ocupada por el ejército ruso, salvo si Kiev paga a Moscú por la electricidad producida, indicó un viceprimer ministro Marat Jusnulin.', 'palsclave': 'Ucrania, Rusia, conflicto, nuclear', 'imagen': 'https://cdn.deperu.com/afp/fotos/b40830afdb67b1368b97f29cb63d6fd9ce185579.jpg', 'imagenpeque': 'https://cdn.deperu.com/afp/fotos/162fcf4380d781bfe03b1ad99b3dfaac3f1eadbc.jpg', 'url': 'https://www.deperu.com/noticias/rusia-quiere-cortar-a-ucrania-de-la-central-nuclear-de-zaporiyia-118454.html', 'fecha': 'Thu, 19 May 2022 04:56:54 -0500'}, {'titulo': 'La mitad de clientes extranjeros de Gazprom abrieron una cuenta en rublos, dice el gobierno ruso', 'resumen': 'Alrededor de la mitad de las empresas extranjeras con un contrato de suministro de gas con el gigante ruso Gazprom abrieron una cuenta en rublos en Gazprombank para honrar sus pagos, indicó el jueves el gobierno ruso.', 'palsclave': 'conflicto, petróleo, Ucrania, Rusia', 'imagen': 'https://cdn.deperu.com/afp/fotos/3f4e82afe5f7d989201422e41e7398d765663f2f.jpg', 'imagenpeque': 'https://cdn.deperu.com/afp/fotos/3d5e13d3a5fafee464f6e48a458e01bbfe71478e.jpg', 'url': 'https://www.deperu.com/noticias/la-mitad-de-clientes-extranjeros-de-gazprom-abrieron-una-cuenta-en-rublos-dice-el-gobierno-ruso-118452.html', 'fecha': 'Thu, 19 May 2022 04:14:34 -0500'}, {'titulo': 'Telefónica vende un 7% de Prisa (El País) por 34,1 millones de euros', 'resumen': 'La empresa española Telefónica anunció el jueves la venta de una participación del 7% en el grupo de prensa Prisa, propietaria del diario El País, por 34,1 millones de euros (casi 36 millones de dólares) a la sociedad también española Global Alconaba.', 'palsclave': 'España, telecomunicaciones, medios', 'imagen': 'https://cdn.deperu.com/afp/fotos/ea3e0f23d80c79b3214a1197a6d48428901366e4.jpg', 'imagenpeque': 'https://cdn.deperu.com/afp/fotos/192ea992d2b95f444590f862d8b8f38e764ed297.jpg', 'url': 'https://www.deperu.com/noticias/telefonica-vende-un-7-de-prisa-el-pais-por-341-millones-de-euros-118448.html', 'fecha': 'Thu, 19 May 2022 03:47:35 -0500'}, {'titulo': 'IAG, casa matriz de British Airways e Iberia, completa un pedido de 50 Boeing 737 con opción a 100 más', 'resumen': 'El grupo aéreo IAG, casa matriz de British Airways e Iberia, anunció este jueves que completó un pedido de 50 Boeing 737 MAX con opción a 100 más, en una operación por un monto estimado en unos 6.250 millones de dólares según el precio de catálogo. ', 'palsclave': 'GB, España, aeroespacial, inversión, aviación', 'imagen': 'https://cdn.deperu.com/afp/fotos/1d1e597d924f51abfe15f628254162836987387f.jpg', 'imagenpeque': 'https://cdn.deperu.com/afp/fotos/b8c35c6c2fe258e8455857fdf4666d7e7d1f3e4e.jpg', 'url': 'https://www.deperu.com/noticias/iag-casa-matriz-de-british-airways-e-iberia-completa-un-pedido-de-50-boeing-737-con-opcion-a-100-mas-118445.html', 'fecha': 'Thu, 19 May 2022 02:44:10 -0500'}, {'titulo': 'Easyjet reduce sus pérdidas y espera un verano boreal con vuelos a niveles pre-covid', 'resumen': 'La compañía aérea de bajo costo Easyjet publicó este jueves una pérdida neta reducida en el primer semestre (de su presupuesto (de octubre a marzo), gracias a la recuperación del tráfico aéreo pospandemia, y se muestra optimista de cara al verano boreal.', 'palsclave': 'GB, utilidades, aviación', 'imagen': 'https://cdn.deperu.com/afp/fotos/5f9ebf50bc92942b001b71062b80eb80fda219f4.jpg', 'imagenpeque': 'https://cdn.deperu.com/afp/fotos/3876316a83f9271c65e98ed951fb8beb1d9c267e.jpg', 'url': 'https://www.deperu.com/noticias/easyjet-reduce-sus-perdidas-y-espera-un-verano-boreal-con-vuelos-a-niveles-pre-covid-118446.html', 'fecha': 'Thu, 19 May 2022 01:28:35 -0500'}, {'titulo': 'Los países del G7 se movilizan para ayudar a la economía de Ucrania', 'resumen': 'Los países del G7 se reúnen este jueves y viernes en Königswinter, Alemania, para apoyar a la economía de Ucrania, castigada por la guerra lanzada por Rusia, intentando mantener a flote sus finanzas.', 'palsclave': 'G7, Ucrania, conflicto, Rusia, finanzas, diplomacia, economía', 'imagen': 'https://cdn.deperu.com/afp/fotos/c5e8172fd5ac439163ebce9da87622b8bd849349.jpg', 'imagenpeque': 'https://cdn.deperu.com/afp/fotos/696edc9d77cbdb04d3a300956a8ceecb2a157775.jpg', 'url': 'https://www.deperu.com/noticias/los-paises-del-g7-se-movilizan-para-ayudar-a-la-economia-de-ucrania-118447.html', 'fecha': 'Thu, 19 May 2022 01:26:18 -0500'}, {'titulo': 'Autora de \"Cómo asesinar a tu esposo\", enjuiciada por el asesinato de su esposo', 'resumen': None, 'palsclave': 'procès, homicide, littérature, USA', 'imagen': 'https://cdn.deperu.com/afp/fotos/e1c091c7ad012a3862aafa10c834c80d41103edb.jpg', 'imagenpeque': 'https://cdn.deperu.com/afp/fotos/7c906479847b572bd163003121244d4a05a62243.jpg', 'url': 'https://www.deperu.com/noticias/autora-de-como-asesinar-a-tu-esposo-enjuiciada-por-el-asesinato-de-su-esposo-118449.html', 'fecha': 'Thu, 19 May 2022 00:17:24 -0500'}, {'titulo': 'Arrestan a japonés que recibió 360.000 dólares en ayuda por covid por error', 'resumen': 'Un japonés que recibió erróneamente 360.000 dólares en ayuda por covid-19 fue detenido después de asegurar que perdió el dinero en apuestas, reveló la policía el jueves.', 'palsclave': 'Japan, crime, virus, offbeat', 'imagen': 'https://cdn.deperu.com/afp/fotos/cd6df648d729f83402b976f5e1f2223230984467.jpg', 'imagenpeque': 'https://cdn.deperu.com/afp/fotos/124453dc75df038d8b3337841e4ed6cea91dc197.jpg', 'url': 'https://www.deperu.com/noticias/arrestan-a-japones-que-recibio-360000-dolares-en-ayuda-por-covid-por-error-118444.html', 'fecha': 'Wed, 18 May 2022 23:08:16 -0500'}, {'titulo': 'Pediatras advierten que la fórmula casera de leche para bebés es insegura', 'resumen': 'Ante la escasez de leche en polvo para bebés en Estados Unidos algunos padres han recurrido a fórmulas caseras publicadas en redes sociales, pero pediatras desaconsejaron esas alternativas pues carecen de vitaminas y nutrientes clave para los pequeños.', 'palsclave': 'EEUU, economía, salud, desinformación, niños, alimentos', 'imagen': 'https://cdn.deperu.com/afp/fotos/fd1836c21babf31477b6e7294bf84faf26dea524.jpg', 'imagenpeque': 'https://cdn.deperu.com/afp/fotos/7e57733f8c163cb842c6474bf80ec98749ebecf4.jpg', 'url': 'https://www.deperu.com/noticias/pediatras-advierten-que-la-formula-casera-de-leche-para-bebes-es-insegura-118442.html', 'fecha': 'Wed, 18 May 2022 21:23:17 -0500'}]\n"
          ]
        }
      ],
      "source": [
        "print(json_data) #print out the json data to eyeball validate download and conversion"
      ]
    },
    {
      "cell_type": "code",
      "execution_count": 6,
      "metadata": {
        "id": "_PZ8fnrkr4-z"
      },
      "outputs": [],
      "source": [
        "df = pd.DataFrame(data=json_data) #load the json data into a pandas dataframe"
      ]
    },
    {
      "cell_type": "code",
      "execution_count": 7,
      "metadata": {
        "colab": {
          "base_uri": "https://localhost:8080/",
          "height": 430
        },
        "id": "DUb6KyKBtOEA",
        "outputId": "0a63b891-a033-46d2-c4a6-3e3cf6a7e710"
      },
      "outputs": [
        {
          "data": {
            "text/html": [
              "<div>\n",
              "<style scoped>\n",
              "    .dataframe tbody tr th:only-of-type {\n",
              "        vertical-align: middle;\n",
              "    }\n",
              "\n",
              "    .dataframe tbody tr th {\n",
              "        vertical-align: top;\n",
              "    }\n",
              "\n",
              "    .dataframe thead th {\n",
              "        text-align: right;\n",
              "    }\n",
              "</style>\n",
              "<table border=\"1\" class=\"dataframe\">\n",
              "  <thead>\n",
              "    <tr style=\"text-align: right;\">\n",
              "      <th></th>\n",
              "      <th>titulo</th>\n",
              "      <th>resumen</th>\n",
              "      <th>palsclave</th>\n",
              "      <th>imagen</th>\n",
              "      <th>imagenpeque</th>\n",
              "      <th>url</th>\n",
              "      <th>fecha</th>\n",
              "    </tr>\n",
              "  </thead>\n",
              "  <tbody>\n",
              "    <tr>\n",
              "      <th>0</th>\n",
              "      <td>Italia incauta bienes del gigante ruso de avia...</td>\n",
              "      <td>Italia anunció este jueves la confiscación de ...</td>\n",
              "      <td>Italia, Rusia, Ucrania, conflicto, sanciones, ...</td>\n",
              "      <td>https://cdn.deperu.com/afp/fotos/b0cc953ec3339...</td>\n",
              "      <td>https://cdn.deperu.com/afp/fotos/279da64dbd866...</td>\n",
              "      <td>https://www.deperu.com/noticias/italia-incauta...</td>\n",
              "      <td>Thu, 19 May 2022 09:52:21 -0500</td>\n",
              "    </tr>\n",
              "    <tr>\n",
              "      <th>1</th>\n",
              "      <td>McDonald's llega a un acuerdo para vender su n...</td>\n",
              "      <td>None</td>\n",
              "      <td>US, Russia, food, restaurant, McDonalds</td>\n",
              "      <td>https://cdn.deperu.com/afp/fotos/2623fc5389c9e...</td>\n",
              "      <td>https://cdn.deperu.com/afp/fotos/64eb3a6c948bd...</td>\n",
              "      <td>https://www.deperu.com/noticias/mcdonalds-lleg...</td>\n",
              "      <td>Thu, 19 May 2022 09:46:45 -0500</td>\n",
              "    </tr>\n",
              "    <tr>\n",
              "      <th>2</th>\n",
              "      <td>Jefe del OIEA ensalza \"avances notables\" en la...</td>\n",
              "      <td>El proceso de desmantelamiento de la central n...</td>\n",
              "      <td>nuclear, Japan, IAEA</td>\n",
              "      <td>https://cdn.deperu.com/afp/fotos/2446d22bcf337...</td>\n",
              "      <td>https://cdn.deperu.com/afp/fotos/b669465a76ecc...</td>\n",
              "      <td>https://www.deperu.com/noticias/jefe-del-oiea-...</td>\n",
              "      <td>Thu, 19 May 2022 09:17:08 -0500</td>\n",
              "    </tr>\n",
              "  </tbody>\n",
              "</table>\n",
              "</div>"
            ],
            "text/plain": [
              "                                              titulo  \\\n",
              "0  Italia incauta bienes del gigante ruso de avia...   \n",
              "1  McDonald's llega a un acuerdo para vender su n...   \n",
              "2  Jefe del OIEA ensalza \"avances notables\" en la...   \n",
              "\n",
              "                                             resumen  \\\n",
              "0  Italia anunció este jueves la confiscación de ...   \n",
              "1                                               None   \n",
              "2  El proceso de desmantelamiento de la central n...   \n",
              "\n",
              "                                           palsclave  \\\n",
              "0  Italia, Rusia, Ucrania, conflicto, sanciones, ...   \n",
              "1            US, Russia, food, restaurant, McDonalds   \n",
              "2                               nuclear, Japan, IAEA   \n",
              "\n",
              "                                              imagen  \\\n",
              "0  https://cdn.deperu.com/afp/fotos/b0cc953ec3339...   \n",
              "1  https://cdn.deperu.com/afp/fotos/2623fc5389c9e...   \n",
              "2  https://cdn.deperu.com/afp/fotos/2446d22bcf337...   \n",
              "\n",
              "                                         imagenpeque  \\\n",
              "0  https://cdn.deperu.com/afp/fotos/279da64dbd866...   \n",
              "1  https://cdn.deperu.com/afp/fotos/64eb3a6c948bd...   \n",
              "2  https://cdn.deperu.com/afp/fotos/b669465a76ecc...   \n",
              "\n",
              "                                                 url  \\\n",
              "0  https://www.deperu.com/noticias/italia-incauta...   \n",
              "1  https://www.deperu.com/noticias/mcdonalds-lleg...   \n",
              "2  https://www.deperu.com/noticias/jefe-del-oiea-...   \n",
              "\n",
              "                             fecha  \n",
              "0  Thu, 19 May 2022 09:52:21 -0500  \n",
              "1  Thu, 19 May 2022 09:46:45 -0500  \n",
              "2  Thu, 19 May 2022 09:17:08 -0500  "
            ]
          },
          "execution_count": 7,
          "metadata": {},
          "output_type": "execute_result"
        }
      ],
      "source": [
        "df.head(3) #let's see the 3 most recent news items (at the top of the dataframe)"
      ]
    },
    {
      "cell_type": "code",
      "execution_count": 8,
      "metadata": {
        "colab": {
          "base_uri": "https://localhost:8080/"
        },
        "id": "foieXBqPwWcg",
        "outputId": "19e81a65-816c-42ee-8230-046b426ae923"
      },
      "outputs": [
        {
          "name": "stdout",
          "output_type": "stream",
          "text": [
            "<class 'pandas.core.frame.DataFrame'>\n",
            "RangeIndex: 24 entries, 0 to 23\n",
            "Data columns (total 7 columns):\n",
            " #   Column       Non-Null Count  Dtype \n",
            "---  ------       --------------  ----- \n",
            " 0   titulo       24 non-null     object\n",
            " 1   resumen      22 non-null     object\n",
            " 2   palsclave    24 non-null     object\n",
            " 3   imagen       24 non-null     object\n",
            " 4   imagenpeque  24 non-null     object\n",
            " 5   url          24 non-null     object\n",
            " 6   fecha        24 non-null     object\n",
            "dtypes: object(7)\n",
            "memory usage: 1.4+ KB\n"
          ]
        }
      ],
      "source": [
        "df.info() #number of records, columns, non-nulls, and data type"
      ]
    },
    {
      "cell_type": "code",
      "execution_count": 9,
      "metadata": {
        "colab": {
          "base_uri": "https://localhost:8080/",
          "height": 326
        },
        "id": "Z2IOGAPMv_a2",
        "outputId": "3e8b3f7a-e4d5-439e-e83a-10125d25f009"
      },
      "outputs": [
        {
          "data": {
            "text/html": [
              "<div>\n",
              "<style scoped>\n",
              "    .dataframe tbody tr th:only-of-type {\n",
              "        vertical-align: middle;\n",
              "    }\n",
              "\n",
              "    .dataframe tbody tr th {\n",
              "        vertical-align: top;\n",
              "    }\n",
              "\n",
              "    .dataframe thead th {\n",
              "        text-align: right;\n",
              "    }\n",
              "</style>\n",
              "<table border=\"1\" class=\"dataframe\">\n",
              "  <thead>\n",
              "    <tr style=\"text-align: right;\">\n",
              "      <th></th>\n",
              "      <th>titulo</th>\n",
              "      <th>resumen</th>\n",
              "      <th>palsclave</th>\n",
              "      <th>imagen</th>\n",
              "      <th>imagenpeque</th>\n",
              "      <th>url</th>\n",
              "      <th>fecha</th>\n",
              "    </tr>\n",
              "  </thead>\n",
              "  <tbody>\n",
              "    <tr>\n",
              "      <th>count</th>\n",
              "      <td>24</td>\n",
              "      <td>22</td>\n",
              "      <td>24</td>\n",
              "      <td>24</td>\n",
              "      <td>24</td>\n",
              "      <td>24</td>\n",
              "      <td>24</td>\n",
              "    </tr>\n",
              "    <tr>\n",
              "      <th>unique</th>\n",
              "      <td>24</td>\n",
              "      <td>22</td>\n",
              "      <td>24</td>\n",
              "      <td>23</td>\n",
              "      <td>23</td>\n",
              "      <td>24</td>\n",
              "      <td>24</td>\n",
              "    </tr>\n",
              "    <tr>\n",
              "      <th>top</th>\n",
              "      <td>Italia incauta bienes del gigante ruso de avia...</td>\n",
              "      <td>Italia anunció este jueves la confiscación de ...</td>\n",
              "      <td>Italia, Rusia, Ucrania, conflicto, sanciones, ...</td>\n",
              "      <td>https://cdn.deperu.com/afp/fotos/6df5debc028d3...</td>\n",
              "      <td>https://cdn.deperu.com/afp/fotos/f0ea275ac7449...</td>\n",
              "      <td>https://www.deperu.com/noticias/italia-incauta...</td>\n",
              "      <td>Thu, 19 May 2022 09:52:21 -0500</td>\n",
              "    </tr>\n",
              "    <tr>\n",
              "      <th>freq</th>\n",
              "      <td>1</td>\n",
              "      <td>1</td>\n",
              "      <td>1</td>\n",
              "      <td>2</td>\n",
              "      <td>2</td>\n",
              "      <td>1</td>\n",
              "      <td>1</td>\n",
              "    </tr>\n",
              "  </tbody>\n",
              "</table>\n",
              "</div>"
            ],
            "text/plain": [
              "                                                   titulo  \\\n",
              "count                                                  24   \n",
              "unique                                                 24   \n",
              "top     Italia incauta bienes del gigante ruso de avia...   \n",
              "freq                                                    1   \n",
              "\n",
              "                                                  resumen  \\\n",
              "count                                                  22   \n",
              "unique                                                 22   \n",
              "top     Italia anunció este jueves la confiscación de ...   \n",
              "freq                                                    1   \n",
              "\n",
              "                                                palsclave  \\\n",
              "count                                                  24   \n",
              "unique                                                 24   \n",
              "top     Italia, Rusia, Ucrania, conflicto, sanciones, ...   \n",
              "freq                                                    1   \n",
              "\n",
              "                                                   imagen  \\\n",
              "count                                                  24   \n",
              "unique                                                 23   \n",
              "top     https://cdn.deperu.com/afp/fotos/6df5debc028d3...   \n",
              "freq                                                    2   \n",
              "\n",
              "                                              imagenpeque  \\\n",
              "count                                                  24   \n",
              "unique                                                 23   \n",
              "top     https://cdn.deperu.com/afp/fotos/f0ea275ac7449...   \n",
              "freq                                                    2   \n",
              "\n",
              "                                                      url  \\\n",
              "count                                                  24   \n",
              "unique                                                 24   \n",
              "top     https://www.deperu.com/noticias/italia-incauta...   \n",
              "freq                                                    1   \n",
              "\n",
              "                                  fecha  \n",
              "count                                24  \n",
              "unique                               24  \n",
              "top     Thu, 19 May 2022 09:52:21 -0500  \n",
              "freq                                  1  "
            ]
          },
          "execution_count": 9,
          "metadata": {},
          "output_type": "execute_result"
        }
      ],
      "source": [
        "df.describe() #some additional data about the deta set"
      ]
    },
    {
      "cell_type": "code",
      "execution_count": 10,
      "metadata": {
        "colab": {
          "base_uri": "https://localhost:8080/"
        },
        "id": "ZIsKs37cxBdS",
        "outputId": "31881e1c-fd6e-4107-ac44-24ab878f4528"
      },
      "outputs": [
        {
          "data": {
            "text/plain": [
              "7"
            ]
          },
          "execution_count": 10,
          "metadata": {},
          "output_type": "execute_result"
        }
      ],
      "source": [
        "df.shape[1] #total number of columns"
      ]
    },
    {
      "cell_type": "code",
      "execution_count": 11,
      "metadata": {
        "colab": {
          "base_uri": "https://localhost:8080/"
        },
        "id": "ZkTn2KZHyQvd",
        "outputId": "8a8fe28f-2158-4416-9230-af0c77a178a8"
      },
      "outputs": [
        {
          "data": {
            "text/plain": [
              "24"
            ]
          },
          "execution_count": 11,
          "metadata": {},
          "output_type": "execute_result"
        }
      ],
      "source": [
        "df.shape[0] #total number of rows or records"
      ]
    },
    {
      "cell_type": "code",
      "execution_count": 12,
      "metadata": {
        "colab": {
          "base_uri": "https://localhost:8080/"
        },
        "id": "6AZVq6CYr5Bn",
        "outputId": "7f8569ca-aac5-4746-b782-40990c51cb9a"
      },
      "outputs": [
        {
          "data": {
            "text/plain": [
              "7"
            ]
          },
          "execution_count": 12,
          "metadata": {},
          "output_type": "execute_result"
        }
      ],
      "source": [
        "df[df.palsclave.str.contains('Ucrania')].shape[0] #total number of news items about Ukraine"
      ]
    },
    {
      "cell_type": "code",
      "execution_count": 13,
      "metadata": {
        "colab": {
          "base_uri": "https://localhost:8080/"
        },
        "id": "VD4bfHtDr5Hh",
        "outputId": "21481032-0fa4-472b-b5ad-c70bec4a5d5b"
      },
      "outputs": [
        {
          "data": {
            "text/plain": [
              "2"
            ]
          },
          "execution_count": 13,
          "metadata": {},
          "output_type": "execute_result"
        }
      ],
      "source": [
        "df['resumen'].isna().sum() #total number of NULL records in news items"
      ]
    },
    {
      "cell_type": "code",
      "execution_count": 14,
      "metadata": {
        "colab": {
          "base_uri": "https://localhost:8080/",
          "height": 194
        },
        "id": "D-SqIzfKr5KP",
        "outputId": "4716f169-e1a6-4caf-fbfc-612f805e4726"
      },
      "outputs": [
        {
          "data": {
            "text/html": [
              "<div>\n",
              "<style scoped>\n",
              "    .dataframe tbody tr th:only-of-type {\n",
              "        vertical-align: middle;\n",
              "    }\n",
              "\n",
              "    .dataframe tbody tr th {\n",
              "        vertical-align: top;\n",
              "    }\n",
              "\n",
              "    .dataframe thead th {\n",
              "        text-align: right;\n",
              "    }\n",
              "</style>\n",
              "<table border=\"1\" class=\"dataframe\">\n",
              "  <thead>\n",
              "    <tr style=\"text-align: right;\">\n",
              "      <th></th>\n",
              "      <th>titulo</th>\n",
              "      <th>resumen</th>\n",
              "      <th>palsclave</th>\n",
              "      <th>imagen</th>\n",
              "      <th>imagenpeque</th>\n",
              "      <th>url</th>\n",
              "      <th>fecha</th>\n",
              "    </tr>\n",
              "  </thead>\n",
              "  <tbody>\n",
              "    <tr>\n",
              "      <th>11</th>\n",
              "      <td>Italia advierte de que llevará más tiempo logr...</td>\n",
              "      <td>El primer ministro italiano, Mario Draghi, adv...</td>\n",
              "      <td>Italia, Ucrania, Rusia, conflcito, petróleo, gas</td>\n",
              "      <td>https://cdn.deperu.com/afp/fotos/d14750febc7e0...</td>\n",
              "      <td>https://cdn.deperu.com/afp/fotos/39ccd331358b5...</td>\n",
              "      <td>https://www.deperu.com/noticias/italia-adviert...</td>\n",
              "      <td>Thu, 19 May 2022 06:15:31 -0500</td>\n",
              "    </tr>\n",
              "  </tbody>\n",
              "</table>\n",
              "</div>"
            ],
            "text/plain": [
              "                                               titulo  \\\n",
              "11  Italia advierte de que llevará más tiempo logr...   \n",
              "\n",
              "                                              resumen  \\\n",
              "11  El primer ministro italiano, Mario Draghi, adv...   \n",
              "\n",
              "                                           palsclave  \\\n",
              "11  Italia, Ucrania, Rusia, conflcito, petróleo, gas   \n",
              "\n",
              "                                               imagen  \\\n",
              "11  https://cdn.deperu.com/afp/fotos/d14750febc7e0...   \n",
              "\n",
              "                                          imagenpeque  \\\n",
              "11  https://cdn.deperu.com/afp/fotos/39ccd331358b5...   \n",
              "\n",
              "                                                  url  \\\n",
              "11  https://www.deperu.com/noticias/italia-adviert...   \n",
              "\n",
              "                              fecha  \n",
              "11  Thu, 19 May 2022 06:15:31 -0500  "
            ]
          },
          "execution_count": 14,
          "metadata": {},
          "output_type": "execute_result"
        }
      ],
      "source": [
        "df[df.palsclave.str.contains('gas')] #show any new items about gas"
      ]
    },
    {
      "cell_type": "code",
      "execution_count": 15,
      "metadata": {
        "colab": {
          "base_uri": "https://localhost:8080/"
        },
        "id": "23FpEhbKr5NR",
        "outputId": "5293ae3e-e237-44b0-e8ba-ea3026d8a6f2"
      },
      "outputs": [
        {
          "name": "stdout",
          "output_type": "stream",
          "text": [
            "                                               titulo  \\\n",
            "11  Italia advierte de que llevará más tiempo logr...   \n",
            "\n",
            "                                              resumen  \\\n",
            "11  El primer ministro italiano, Mario Draghi, adv...   \n",
            "\n",
            "                                           palsclave  \\\n",
            "11  Italia, Ucrania, Rusia, conflcito, petróleo, gas   \n",
            "\n",
            "                                               imagen  \\\n",
            "11  https://cdn.deperu.com/afp/fotos/d14750febc7e0...   \n",
            "\n",
            "                                          imagenpeque  \\\n",
            "11  https://cdn.deperu.com/afp/fotos/39ccd331358b5...   \n",
            "\n",
            "                                                  url  \\\n",
            "11  https://www.deperu.com/noticias/italia-adviert...   \n",
            "\n",
            "                              fecha  \n",
            "11  Thu, 19 May 2022 06:15:31 -0500  \n"
          ]
        }
      ],
      "source": [
        "print(df[df.palsclave.str.contains('gas')]) #details on the gas news items in Peru"
      ]
    },
    {
      "cell_type": "code",
      "execution_count": 16,
      "metadata": {
        "colab": {
          "base_uri": "https://localhost:8080/"
        },
        "id": "RVqjHZ7Hr5Qi",
        "outputId": "78944a6d-6bcd-4428-c567-0d13688b1e6d"
      },
      "outputs": [
        {
          "name": "stdout",
          "output_type": "stream",
          "text": [
            "Italia advierte de que llevará más tiempo lograr la independencia del gas ruso\n"
          ]
        }
      ],
      "source": [
        "print(df[df.palsclave.str.contains('gas')].iloc[0,0]) #let's see the scalar/full title slug"
      ]
    },
    {
      "cell_type": "code",
      "execution_count": 17,
      "metadata": {
        "colab": {
          "base_uri": "https://localhost:8080/"
        },
        "id": "tyG5LqC9r5Tl",
        "outputId": "fadf0daf-c0c7-4933-9088-392c2a09c2f9"
      },
      "outputs": [
        {
          "name": "stdout",
          "output_type": "stream",
          "text": [
            "El primer ministro italiano, Mario Draghi, advirtió este jueves que Italia logrará la independiente del gas ruso hacia el segundo semestre del 2024, lo que implica más tiempo del inicialmente calculado.\n"
          ]
        }
      ],
      "source": [
        "print(df[df.palsclave.str.contains('gas')].iloc[0,1]) #let's see the scalar/full news item"
      ]
    },
    {
      "cell_type": "code",
      "execution_count": 18,
      "metadata": {
        "colab": {
          "base_uri": "https://localhost:8080/"
        },
        "id": "XFp8KmXDr5W8",
        "outputId": "6afc632d-87ae-44e0-e599-ef4eec66dac0"
      },
      "outputs": [
        {
          "name": "stdout",
          "output_type": "stream",
          "text": [
            "https://www.deperu.com/noticias/italia-advierte-de-que-llevara-mas-tiempo-lograr-la-independencia-del-gas-ruso-118451.html\n"
          ]
        }
      ],
      "source": [
        "print(df[df.palsclave.str.contains('gas')].iloc[0,5]) #let's see the scalar/full link so we can click on it"
      ]
    },
    {
      "cell_type": "code",
      "execution_count": 19,
      "metadata": {
        "colab": {
          "base_uri": "https://localhost:8080/",
          "height": 802
        },
        "id": "pSOexLGJr5aJ",
        "outputId": "b47973f4-7271-47d5-a4e5-d00ad7dadac8"
      },
      "outputs": [
        {
          "data": {
            "text/html": [
              "<div>\n",
              "<style scoped>\n",
              "    .dataframe tbody tr th:only-of-type {\n",
              "        vertical-align: middle;\n",
              "    }\n",
              "\n",
              "    .dataframe tbody tr th {\n",
              "        vertical-align: top;\n",
              "    }\n",
              "\n",
              "    .dataframe thead th {\n",
              "        text-align: right;\n",
              "    }\n",
              "</style>\n",
              "<table border=\"1\" class=\"dataframe\">\n",
              "  <thead>\n",
              "    <tr style=\"text-align: right;\">\n",
              "      <th></th>\n",
              "      <th>resumen</th>\n",
              "      <th>palsclave</th>\n",
              "    </tr>\n",
              "  </thead>\n",
              "  <tbody>\n",
              "    <tr>\n",
              "      <th>0</th>\n",
              "      <td>Italia anunció este jueves la confiscación de ...</td>\n",
              "      <td>Italia, Rusia, Ucrania, conflicto, sanciones, ...</td>\n",
              "    </tr>\n",
              "    <tr>\n",
              "      <th>1</th>\n",
              "      <td>None</td>\n",
              "      <td>US, Russia, food, restaurant, McDonalds</td>\n",
              "    </tr>\n",
              "    <tr>\n",
              "      <th>2</th>\n",
              "      <td>El proceso de desmantelamiento de la central n...</td>\n",
              "      <td>nuclear, Japan, IAEA</td>\n",
              "    </tr>\n",
              "    <tr>\n",
              "      <th>3</th>\n",
              "      <td>El gigante energético francés EDF revisó este ...</td>\n",
              "      <td>Francia, energía, utilidades, nuclear, política</td>\n",
              "    </tr>\n",
              "    <tr>\n",
              "      <th>4</th>\n",
              "      <td>Las autoridades sanitarias de Norteamérica y E...</td>\n",
              "      <td>Canada, US, health, virus, monkeypox</td>\n",
              "    </tr>\n",
              "    <tr>\n",
              "      <th>5</th>\n",
              "      <td>La filial rusa de Google anunció su intención ...</td>\n",
              "      <td>Rusia, EEUU, conflicto, Ucrania, internet</td>\n",
              "    </tr>\n",
              "    <tr>\n",
              "      <th>6</th>\n",
              "      <td>Sri Lanka no podrá comenzar a pagar su deuda a...</td>\n",
              "      <td>SriLanka, deuda, FMI, economía</td>\n",
              "    </tr>\n",
              "    <tr>\n",
              "      <th>7</th>\n",
              "      <td>La Organización Mundial de la Salud anunció el...</td>\n",
              "      <td>pandemia, farmacéutica, ONU, epidemia, China, ...</td>\n",
              "    </tr>\n",
              "    <tr>\n",
              "      <th>8</th>\n",
              "      <td>Un navío fue atacado frente a las costas de Ye...</td>\n",
              "      <td>Yemen, seguridad, transporte</td>\n",
              "    </tr>\n",
              "    <tr>\n",
              "      <th>9</th>\n",
              "      <td>En una comunidad agrícola de Galilea, una empr...</td>\n",
              "      <td>Israël, agriculture, technologies, animaux, en...</td>\n",
              "    </tr>\n",
              "    <tr>\n",
              "      <th>10</th>\n",
              "      <td>Indonesia va a autorizar a partir de la semana...</td>\n",
              "      <td>Indonesia, gobierno, mercado, exportaciones, a...</td>\n",
              "    </tr>\n",
              "    <tr>\n",
              "      <th>11</th>\n",
              "      <td>El primer ministro italiano, Mario Draghi, adv...</td>\n",
              "      <td>Italia, Ucrania, Rusia, conflcito, petróleo, gas</td>\n",
              "    </tr>\n",
              "    <tr>\n",
              "      <th>12</th>\n",
              "      <td>Las autoridades sanitarias suecas anunciaron l...</td>\n",
              "      <td>UE, Canadá, USA, enfermedad, GB, Portugal, Sue...</td>\n",
              "    </tr>\n",
              "    <tr>\n",
              "      <th>13</th>\n",
              "      <td>China se pronunció este jueves en contra de qu...</td>\n",
              "      <td>China, Taiwán, política, EEUU, salud</td>\n",
              "    </tr>\n",
              "    <tr>\n",
              "      <th>14</th>\n",
              "      <td>El gobierno británico anunció el jueves nuevas...</td>\n",
              "      <td>GB, Rusia, Ucrania, conflicto, gobierno, diplo...</td>\n",
              "    </tr>\n",
              "    <tr>\n",
              "      <th>15</th>\n",
              "      <td>Rusia quiere cortar a Ucrania de su central nu...</td>\n",
              "      <td>Ucrania, Rusia, conflicto, nuclear</td>\n",
              "    </tr>\n",
              "    <tr>\n",
              "      <th>16</th>\n",
              "      <td>Alrededor de la mitad de las empresas extranje...</td>\n",
              "      <td>conflicto, petróleo, Ucrania, Rusia</td>\n",
              "    </tr>\n",
              "    <tr>\n",
              "      <th>17</th>\n",
              "      <td>La empresa española Telefónica anunció el juev...</td>\n",
              "      <td>España, telecomunicaciones, medios</td>\n",
              "    </tr>\n",
              "    <tr>\n",
              "      <th>18</th>\n",
              "      <td>El grupo aéreo IAG, casa matriz de British Air...</td>\n",
              "      <td>GB, España, aeroespacial, inversión, aviación</td>\n",
              "    </tr>\n",
              "    <tr>\n",
              "      <th>19</th>\n",
              "      <td>La compañía aérea de bajo costo Easyjet public...</td>\n",
              "      <td>GB, utilidades, aviación</td>\n",
              "    </tr>\n",
              "    <tr>\n",
              "      <th>20</th>\n",
              "      <td>Los países del G7 se reúnen este jueves y vier...</td>\n",
              "      <td>G7, Ucrania, conflicto, Rusia, finanzas, diplo...</td>\n",
              "    </tr>\n",
              "    <tr>\n",
              "      <th>21</th>\n",
              "      <td>None</td>\n",
              "      <td>procès, homicide, littérature, USA</td>\n",
              "    </tr>\n",
              "    <tr>\n",
              "      <th>22</th>\n",
              "      <td>Un japonés que recibió erróneamente 360.000 dó...</td>\n",
              "      <td>Japan, crime, virus, offbeat</td>\n",
              "    </tr>\n",
              "    <tr>\n",
              "      <th>23</th>\n",
              "      <td>Ante la escasez de leche en polvo para bebés e...</td>\n",
              "      <td>EEUU, economía, salud, desinformación, niños, ...</td>\n",
              "    </tr>\n",
              "  </tbody>\n",
              "</table>\n",
              "</div>"
            ],
            "text/plain": [
              "                                              resumen  \\\n",
              "0   Italia anunció este jueves la confiscación de ...   \n",
              "1                                                None   \n",
              "2   El proceso de desmantelamiento de la central n...   \n",
              "3   El gigante energético francés EDF revisó este ...   \n",
              "4   Las autoridades sanitarias de Norteamérica y E...   \n",
              "5   La filial rusa de Google anunció su intención ...   \n",
              "6   Sri Lanka no podrá comenzar a pagar su deuda a...   \n",
              "7   La Organización Mundial de la Salud anunció el...   \n",
              "8   Un navío fue atacado frente a las costas de Ye...   \n",
              "9   En una comunidad agrícola de Galilea, una empr...   \n",
              "10  Indonesia va a autorizar a partir de la semana...   \n",
              "11  El primer ministro italiano, Mario Draghi, adv...   \n",
              "12  Las autoridades sanitarias suecas anunciaron l...   \n",
              "13  China se pronunció este jueves en contra de qu...   \n",
              "14  El gobierno británico anunció el jueves nuevas...   \n",
              "15  Rusia quiere cortar a Ucrania de su central nu...   \n",
              "16  Alrededor de la mitad de las empresas extranje...   \n",
              "17  La empresa española Telefónica anunció el juev...   \n",
              "18  El grupo aéreo IAG, casa matriz de British Air...   \n",
              "19  La compañía aérea de bajo costo Easyjet public...   \n",
              "20  Los países del G7 se reúnen este jueves y vier...   \n",
              "21                                               None   \n",
              "22  Un japonés que recibió erróneamente 360.000 dó...   \n",
              "23  Ante la escasez de leche en polvo para bebés e...   \n",
              "\n",
              "                                            palsclave  \n",
              "0   Italia, Rusia, Ucrania, conflicto, sanciones, ...  \n",
              "1             US, Russia, food, restaurant, McDonalds  \n",
              "2                                nuclear, Japan, IAEA  \n",
              "3     Francia, energía, utilidades, nuclear, política  \n",
              "4                Canada, US, health, virus, monkeypox  \n",
              "5           Rusia, EEUU, conflicto, Ucrania, internet  \n",
              "6                      SriLanka, deuda, FMI, economía  \n",
              "7   pandemia, farmacéutica, ONU, epidemia, China, ...  \n",
              "8                        Yemen, seguridad, transporte  \n",
              "9   Israël, agriculture, technologies, animaux, en...  \n",
              "10  Indonesia, gobierno, mercado, exportaciones, a...  \n",
              "11   Italia, Ucrania, Rusia, conflcito, petróleo, gas  \n",
              "12  UE, Canadá, USA, enfermedad, GB, Portugal, Sue...  \n",
              "13               China, Taiwán, política, EEUU, salud  \n",
              "14  GB, Rusia, Ucrania, conflicto, gobierno, diplo...  \n",
              "15                 Ucrania, Rusia, conflicto, nuclear  \n",
              "16                conflicto, petróleo, Ucrania, Rusia  \n",
              "17                 España, telecomunicaciones, medios  \n",
              "18      GB, España, aeroespacial, inversión, aviación  \n",
              "19                           GB, utilidades, aviación  \n",
              "20  G7, Ucrania, conflicto, Rusia, finanzas, diplo...  \n",
              "21                 procès, homicide, littérature, USA  \n",
              "22                       Japan, crime, virus, offbeat  \n",
              "23  EEUU, economía, salud, desinformación, niños, ...  "
            ]
          },
          "execution_count": 19,
          "metadata": {},
          "output_type": "execute_result"
        }
      ],
      "source": [
        "df[['resumen', 'palsclave']] #select and print columns 2 and 3"
      ]
    },
    {
      "cell_type": "code",
      "execution_count": 20,
      "metadata": {
        "colab": {
          "base_uri": "https://localhost:8080/",
          "height": 531
        },
        "id": "q0Y2Ly-kr5c_",
        "outputId": "c96630b0-398a-493d-e3aa-12489de0053c"
      },
      "outputs": [
        {
          "data": {
            "text/html": [
              "<div>\n",
              "<style scoped>\n",
              "    .dataframe tbody tr th:only-of-type {\n",
              "        vertical-align: middle;\n",
              "    }\n",
              "\n",
              "    .dataframe tbody tr th {\n",
              "        vertical-align: top;\n",
              "    }\n",
              "\n",
              "    .dataframe thead th {\n",
              "        text-align: right;\n",
              "    }\n",
              "</style>\n",
              "<table border=\"1\" class=\"dataframe\">\n",
              "  <thead>\n",
              "    <tr style=\"text-align: right;\">\n",
              "      <th></th>\n",
              "      <th>titulo</th>\n",
              "      <th>resumen</th>\n",
              "      <th>palsclave</th>\n",
              "      <th>imagen</th>\n",
              "      <th>imagenpeque</th>\n",
              "      <th>url</th>\n",
              "      <th>fecha</th>\n",
              "    </tr>\n",
              "  </thead>\n",
              "  <tbody>\n",
              "    <tr>\n",
              "      <th>0</th>\n",
              "      <td>Italia incauta bienes del gigante ruso de avia...</td>\n",
              "      <td>Italia anunció este jueves la confiscación de ...</td>\n",
              "      <td>Italia, Rusia, Ucrania, conflicto, sanciones, ...</td>\n",
              "      <td>https://cdn.deperu.com/afp/fotos/b0cc953ec3339...</td>\n",
              "      <td>https://cdn.deperu.com/afp/fotos/279da64dbd866...</td>\n",
              "      <td>https://www.deperu.com/noticias/italia-incauta...</td>\n",
              "      <td>Thu, 19 May 2022 09:52:21 -0500</td>\n",
              "    </tr>\n",
              "    <tr>\n",
              "      <th>1</th>\n",
              "      <td>McDonald's llega a un acuerdo para vender su n...</td>\n",
              "      <td>None</td>\n",
              "      <td>US, Russia, food, restaurant, McDonalds</td>\n",
              "      <td>https://cdn.deperu.com/afp/fotos/2623fc5389c9e...</td>\n",
              "      <td>https://cdn.deperu.com/afp/fotos/64eb3a6c948bd...</td>\n",
              "      <td>https://www.deperu.com/noticias/mcdonalds-lleg...</td>\n",
              "      <td>Thu, 19 May 2022 09:46:45 -0500</td>\n",
              "    </tr>\n",
              "    <tr>\n",
              "      <th>2</th>\n",
              "      <td>Jefe del OIEA ensalza \"avances notables\" en la...</td>\n",
              "      <td>El proceso de desmantelamiento de la central n...</td>\n",
              "      <td>nuclear, Japan, IAEA</td>\n",
              "      <td>https://cdn.deperu.com/afp/fotos/2446d22bcf337...</td>\n",
              "      <td>https://cdn.deperu.com/afp/fotos/b669465a76ecc...</td>\n",
              "      <td>https://www.deperu.com/noticias/jefe-del-oiea-...</td>\n",
              "      <td>Thu, 19 May 2022 09:17:08 -0500</td>\n",
              "    </tr>\n",
              "    <tr>\n",
              "      <th>3</th>\n",
              "      <td>El gigante energético francés EDF rebaja su pr...</td>\n",
              "      <td>El gigante energético francés EDF revisó este ...</td>\n",
              "      <td>Francia, energía, utilidades, nuclear, política</td>\n",
              "      <td>https://cdn.deperu.com/afp/fotos/876c43ac70e72...</td>\n",
              "      <td>https://cdn.deperu.com/afp/fotos/92608b4364881...</td>\n",
              "      <td>https://www.deperu.com/noticias/el-gigante-ene...</td>\n",
              "      <td>Thu, 19 May 2022 09:10:33 -0500</td>\n",
              "    </tr>\n",
              "  </tbody>\n",
              "</table>\n",
              "</div>"
            ],
            "text/plain": [
              "                                              titulo  \\\n",
              "0  Italia incauta bienes del gigante ruso de avia...   \n",
              "1  McDonald's llega a un acuerdo para vender su n...   \n",
              "2  Jefe del OIEA ensalza \"avances notables\" en la...   \n",
              "3  El gigante energético francés EDF rebaja su pr...   \n",
              "\n",
              "                                             resumen  \\\n",
              "0  Italia anunció este jueves la confiscación de ...   \n",
              "1                                               None   \n",
              "2  El proceso de desmantelamiento de la central n...   \n",
              "3  El gigante energético francés EDF revisó este ...   \n",
              "\n",
              "                                           palsclave  \\\n",
              "0  Italia, Rusia, Ucrania, conflicto, sanciones, ...   \n",
              "1            US, Russia, food, restaurant, McDonalds   \n",
              "2                               nuclear, Japan, IAEA   \n",
              "3    Francia, energía, utilidades, nuclear, política   \n",
              "\n",
              "                                              imagen  \\\n",
              "0  https://cdn.deperu.com/afp/fotos/b0cc953ec3339...   \n",
              "1  https://cdn.deperu.com/afp/fotos/2623fc5389c9e...   \n",
              "2  https://cdn.deperu.com/afp/fotos/2446d22bcf337...   \n",
              "3  https://cdn.deperu.com/afp/fotos/876c43ac70e72...   \n",
              "\n",
              "                                         imagenpeque  \\\n",
              "0  https://cdn.deperu.com/afp/fotos/279da64dbd866...   \n",
              "1  https://cdn.deperu.com/afp/fotos/64eb3a6c948bd...   \n",
              "2  https://cdn.deperu.com/afp/fotos/b669465a76ecc...   \n",
              "3  https://cdn.deperu.com/afp/fotos/92608b4364881...   \n",
              "\n",
              "                                                 url  \\\n",
              "0  https://www.deperu.com/noticias/italia-incauta...   \n",
              "1  https://www.deperu.com/noticias/mcdonalds-lleg...   \n",
              "2  https://www.deperu.com/noticias/jefe-del-oiea-...   \n",
              "3  https://www.deperu.com/noticias/el-gigante-ene...   \n",
              "\n",
              "                             fecha  \n",
              "0  Thu, 19 May 2022 09:52:21 -0500  \n",
              "1  Thu, 19 May 2022 09:46:45 -0500  \n",
              "2  Thu, 19 May 2022 09:17:08 -0500  \n",
              "3  Thu, 19 May 2022 09:10:33 -0500  "
            ]
          },
          "execution_count": 20,
          "metadata": {},
          "output_type": "execute_result"
        }
      ],
      "source": [
        "df.head(4) #select and print the first four rows"
      ]
    },
    {
      "cell_type": "code",
      "execution_count": 21,
      "metadata": {
        "colab": {
          "base_uri": "https://localhost:8080/"
        },
        "id": "NeUyexTd4TH9",
        "outputId": "36d2c29d-f6d4-4e28-fb92-1f3708a696b0"
      },
      "outputs": [
        {
          "name": "stdout",
          "output_type": "stream",
          "text": [
            "Don't have a good day.\n",
            "Have a great day!\n"
          ]
        }
      ],
      "source": [
        "print(\"Don't have a good day.\\nHave a great day!\")"
      ]
    }
  ],
  "metadata": {
    "colab": {
      "collapsed_sections": [],
      "name": "data_2_check_1",
      "provenance": []
    },
    "kernelspec": {
      "display_name": "Python 3",
      "name": "python3"
    },
    "language_info": {
      "codemirror_mode": {
        "name": "ipython",
        "version": 3
      },
      "file_extension": ".py",
      "mimetype": "text/x-python",
      "name": "python",
      "nbconvert_exporter": "python",
      "pygments_lexer": "ipython3",
      "version": "3.9.7"
    }
  },
  "nbformat": 4,
  "nbformat_minor": 0
}
