{
  "nbformat": 4,
  "nbformat_minor": 0,
  "metadata": {
    "colab": {
      "name": "data_2_check_1",
      "provenance": [],
      "collapsed_sections": []
    },
    "kernelspec": {
      "name": "python3",
      "display_name": "Python 3"
    },
    "language_info": {
      "name": "python"
    }
  },
  "cells": [
    {
      "cell_type": "markdown",
      "source": [
        "**Your Instructions:**\n",
        "\n",
        "*To complete the first knowledge check, do the following:*\n",
        "\n",
        "* Create a GitHub repo called \"data_1_checks\". You will upload ALL knowledge checks to this repo in the future.\n",
        "\n",
        "* Send that link to your mentor so they can check it when you finish the assignment.\n",
        "\n",
        "* Make a .py (or .ipynb) file that contains the following (your choice of editor does not matter!) and do the following:\n",
        "\n",
        "* Pull in data from an API. Here's a list of public APIs that don't require Auth keys, though if you have another API you want to use feel free: https://apipheny.io/free-api/\n",
        "\n",
        "* Find and print TWO descriptive statistics about your data. This can be absolutely anything, from the mean() or sum() of a column to the number of different categories, to the number of null values in a column. We just want to see two pieces of information.\n",
        "\n",
        "* Write a query in Pandas to select a particular set of your data. You can use a mask or with .query(), but we want you to pull out a subset based on any parameter you like. This could be \"show me every row where HTTPS=False\" or anything else.\n",
        "\n",
        "* Select and print the SECOND AND THIRD columns of your data frame.\n",
        "\n",
        "* Select and print the FIRST 4 rows of you data frame.\n",
        "\n",
        "* Commit your changes.\n",
        "\n",
        "- Push your changes to your repo and notify your mentor!"
      ],
      "metadata": {
        "id": "OHooM-dS3laJ"
      }
    },
    {
      "cell_type": "markdown",
      "source": [
        ""
      ],
      "metadata": {
        "id": "5AemuEx15U8j"
      }
    },
    {
      "cell_type": "code",
      "source": [
        "#Duane Hellums, Code Louisville, 11:20 AM, 5/19/22"
      ],
      "metadata": {
        "id": "VDis15rH5Wvq"
      },
      "execution_count": 1,
      "outputs": []
    },
    {
      "cell_type": "code",
      "source": [
        "import requests\n",
        "import json\n",
        "import pandas as pd"
      ],
      "metadata": {
        "id": "jFuCd9wC3iXn"
      },
      "execution_count": 2,
      "outputs": []
    },
    {
      "cell_type": "code",
      "source": [
        "r = requests.get('https://deperu.com/api/rest/noticias.json') #download Spanish language news items from the country of Peru"
      ],
      "metadata": {
        "id": "7RxhmyX9r4wL"
      },
      "execution_count": 3,
      "outputs": []
    },
    {
      "cell_type": "code",
      "source": [
        "json_data = json.loads(r.text) #grab the json data from the page response"
      ],
      "metadata": {
        "id": "ZHRDWYBEy9Nn"
      },
      "execution_count": 4,
      "outputs": []
    },
    {
      "cell_type": "code",
      "source": [
        "print(json_data) #print out the json data to eyeball validate download and conversion"
      ],
      "metadata": {
        "colab": {
          "base_uri": "https://localhost:8080/"
        },
        "id": "0OEGMnOVr475",
        "outputId": "8e0abb6b-410b-46ec-8940-84e43b4a54ed"
      },
      "execution_count": 5,
      "outputs": [
        {
          "output_type": "stream",
          "name": "stdout",
          "text": [
            "[{'titulo': 'Jefe del OIEA ensalza \"avances notables\" en las obras de la central de Fukushima', 'resumen': 'El proceso de desmantelamiento de la central nuclear de Fukushima de Japón, dañada por un tsunami en 2011, registró \"avances notables\", consideró este jueves el director del Organismo Internacional de la Energía Atómica (OIEA) Rafael Grossi, tras visitar el lugar.', 'palsclave': 'nuclear, Japan, IAEA', 'imagen': 'https://cdn.deperu.com/afp/fotos/2446d22bcf337b2c91a551d27bf5a7fe95e182c9.jpg', 'imagenpeque': 'https://cdn.deperu.com/afp/fotos/b669465a76ecc722ef6d0a1a679a51ebf579db6b.jpg', 'url': 'https://www.deperu.com/noticias/jefe-del-oiea-ensalza-avances-notables-en-las-obras-de-la-central-de-fukushima-118460.html', 'fecha': 'Thu, 19 May 2022 09:17:08 -0500'}, {'titulo': 'La filial rusa de Google planea declararse en quiebra', 'resumen': 'La filial rusa de Google anunció su intención de declararse en quiebra después de que las autoridades de ese país incautaran su cuenta bancaria, pero indicó que seguirá suministrando sus servicios gratuitos.', 'palsclave': 'Rusia, EEUU, conflicto, Ucrania, internet', 'imagen': 'https://cdn.deperu.com/afp/fotos/8b4eea9c9acc11ce47cedc83da0dd99419508e06.jpg', 'imagenpeque': 'https://cdn.deperu.com/afp/fotos/c0abd33fa524d96c931b3d9f6129fade64a85599.jpg', 'url': 'https://www.deperu.com/noticias/la-filial-rusa-de-google-planea-declararse-en-quiebra-118459.html', 'fecha': 'Thu, 19 May 2022 08:09:14 -0500'}, {'titulo': 'Sri Lanka no podrá comenzar a pagar su deuda hasta dentro de seis meses', 'resumen': 'Sri Lanka no podrá comenzar a pagar su deuda antes de seis meses, anunció el jueves el Banco Central del país en mora. ', 'palsclave': 'SriLanka, deuda, FMI, economía', 'imagen': 'https://cdn.deperu.com/afp/fotos/59bd24292e3ab13fdfddd40a460f335e8b76fb13.jpg', 'imagenpeque': 'https://cdn.deperu.com/afp/fotos/b8d7123c6e6df5c8364739f56f87acffca9c71e8.jpg', 'url': 'https://www.deperu.com/noticias/sri-lanka-no-podra-comenzar-a-pagar-su-deuda-hasta-dentro-de-seis-meses-118462.html', 'fecha': 'Thu, 19 May 2022 07:54:09 -0500'}, {'titulo': 'La vacuna china anticovid Convidecia recibe la aprobación de emergencia de la OMS', 'resumen': 'La Organización Mundial de la Salud anunció el jueves la aprobación de emergencia de la vacuna Convidecia de la empresa china CanSino Biologics, mientras Pekín lucha contra el resurgimiento de la pandemia de covid. ', 'palsclave': 'pandemia, farmacéutica, ONU, epidemia, China, vacunas, virus, salud', 'imagen': 'https://cdn.deperu.com/afp/fotos/3b6696de4ee7289b5bcd76be249645d712b5f7aa.jpg', 'imagenpeque': 'https://cdn.deperu.com/afp/fotos/a80339d1ef080b2a5a90ddbb0137e684541cdb2f.jpg', 'url': 'https://www.deperu.com/noticias/la-vacuna-china-anticovid-convidecia-recibe-la-aprobacion-de-emergencia-de-la-oms-118461.html', 'fecha': 'Thu, 19 May 2022 07:13:23 -0500'}, {'titulo': 'Un navío atacado frente a las costas de Yemen, según la agencia marítima británica', 'resumen': 'Un navío fue atacado frente a las costas de Yemen, en el mar Rojo, indicó este jueves la Agencia de Seguridad Marítima del Reino Unido (UKMTO). ', 'palsclave': 'Yemen, seguridad, transporte', 'imagen': 'https://cdn.deperu.com/afp/fotos/93bdaf74324b896992f7d7bd3a2aaf850398214f.jpg', 'imagenpeque': 'https://cdn.deperu.com/afp/fotos/4517b613105b1d4def634abdbda12c69f03b0a88.jpg', 'url': 'https://www.deperu.com/noticias/un-navio-atacado-frente-a-las-costas-de-yemen-segun-la-agencia-maritima-britanica-118458.html', 'fecha': 'Thu, 19 May 2022 06:36:37 -0500'}, {'titulo': 'Colmenas robotizadas en Israel para preservar a las abejas', 'resumen': 'En una comunidad agrícola de Galilea, una empresa emergente israelí ha construido colmenas robotizadas que vigilan las abejas 24 horas y permiten reducir la mortalidad de estas grandes polinizadoras, garantes de la seguridad alimentaria.', 'palsclave': 'Israël, agriculture, technologies, animaux, environnement', 'imagen': 'https://cdn.deperu.com/afp/fotos/5c0052289325c83bde85539f0d904c5048fb0d45.jpg', 'imagenpeque': 'https://cdn.deperu.com/afp/fotos/336779bec835abd498cc3ca560289db4484c0321.jpg', 'url': 'https://www.deperu.com/noticias/colmenas-robotizadas-en-israel-para-preservar-a-las-abejas-118450.html', 'fecha': 'Thu, 19 May 2022 06:30:22 -0500'}, {'titulo': 'Indonesia va a autorizar la reanudación de las exportaciones de aceite de palma', 'resumen': 'Indonesia va a autorizar a partir de la semana próxima la reanudación de las exportaciones de aceite de palma, del cual es el primer productor mundial, anunció este jueves el presidente del país del Sudeste Asiático, Joko Widodo.', 'palsclave': 'Indonesia, gobierno, mercado, exportaciones, agricultura, agua', 'imagen': 'https://cdn.deperu.com/afp/fotos/d97b6f3573a1ba0419fda3b9c0aa8fe4e1527e01.jpg', 'imagenpeque': 'https://cdn.deperu.com/afp/fotos/6431eed592f8b796b11e734d53a7c3479683f537.jpg', 'url': 'https://www.deperu.com/noticias/indonesia-va-a-autorizar-la-reanudacion-de-las-exportaciones-de-aceite-de-palma-118457.html', 'fecha': 'Thu, 19 May 2022 06:17:59 -0500'}, {'titulo': 'Italia advierte de que llevará más tiempo lograr la independencia del gas ruso', 'resumen': 'El primer ministro italiano, Mario Draghi, advirtió este jueves que Italia logrará la independiente del gas ruso hacia el segundo semestre del 2024, lo que implica más tiempo del inicialmente calculado.', 'palsclave': 'Italia, Ucrania, Rusia, conflcito, petróleo, gas', 'imagen': 'https://cdn.deperu.com/afp/fotos/d14750febc7e020e0675277b114c8d4105220b42.jpg', 'imagenpeque': 'https://cdn.deperu.com/afp/fotos/39ccd331358b555d24151871c77dfacdba47c100.jpg', 'url': 'https://www.deperu.com/noticias/italia-advierte-de-que-llevara-mas-tiempo-lograr-la-independencia-del-gas-ruso-118451.html', 'fecha': 'Thu, 19 May 2022 06:15:31 -0500'}, {'titulo': 'Primer caso de viruela del mono en Suecia', 'resumen': 'Las autoridades sanitarias suecas anunciaron la detección de un primer caso de viruela del mono en el país, tras la aparición de personas en Europa y América del Norte contagiadas de esta enfermedad habitualmente endémica en África.', 'palsclave': 'UE, Canadá, USA, enfermedad, GB, Portugal, Suecia, virus, África, salud, España', 'imagen': 'https://cdn.deperu.com/afp/fotos/6df5debc028d39a22e05724cc55c9a66cccf40f3.jpg', 'imagenpeque': 'https://cdn.deperu.com/afp/fotos/f0ea275ac74498ee5c05c137653c317e1e3e3631.jpg', 'url': 'https://www.deperu.com/noticias/primer-caso-de-viruela-del-mono-en-suecia-118453.html', 'fecha': 'Thu, 19 May 2022 06:08:38 -0500'}, {'titulo': 'China se opone al pedido de EEUU de invitar a Taiwán a la reunión anual de la OMS', 'resumen': 'China se pronunció este jueves en contra de que Taiwán participe a la reunión anual de la Organización Mundial de la Salud (OMS), después de que Estados Unidos pidiera la víspera que se invite a la isla a la luz de su \"experiencia\" en la lucha contra el covid.', 'palsclave': 'China, Taiwán, política, EEUU, salud', 'imagen': 'https://cdn.deperu.com/afp/fotos/0cbbff10a557d0b05ae78d894b75477c69451e45.jpg', 'imagenpeque': 'https://cdn.deperu.com/afp/fotos/175e49c2e40d345fe1fc921c56c4b90ba618e99f.jpg', 'url': 'https://www.deperu.com/noticias/china-se-opone-al-pedido-de-eeuu-de-invitar-a-taiwan-a-la-reunion-anual-de-la-oms-118455.html', 'fecha': 'Thu, 19 May 2022 05:16:00 -0500'}, {'titulo': 'Reino Unido sanciona a las principales aerolíneas rusas', 'resumen': 'El gobierno británico anunció el jueves nuevas sanciones contra las principales compañías aéreas rusas, entre ellas Aeroflot, prohibiéndoles revender sus franjas horarias en represalia por la invasión de Ucrania.', 'palsclave': 'GB, Rusia, Ucrania, conflicto, gobierno, diplomacia, aviación, sanción', 'imagen': 'https://cdn.deperu.com/afp/fotos/4cd2d535e6f70db2780d2424a05d34868cbf5af4.jpg', 'imagenpeque': 'https://cdn.deperu.com/afp/fotos/c00d9187a8f401ec982052630c9f0e1ace836dce.jpg', 'url': 'https://www.deperu.com/noticias/reino-unido-sanciona-a-las-principales-aerolineas-rusas-118456.html', 'fecha': 'Thu, 19 May 2022 05:08:15 -0500'}, {'titulo': 'Rusia quiere cortar a Ucrania de la central nuclear de Zaporiyia', 'resumen': 'Rusia quiere cortar a Ucrania de su central nuclear de Zaporiyia, la mayor de Europa, ocupada por el ejército ruso, salvo si Kiev paga a Moscú por la electricidad producida, indicó un viceprimer ministro Marat Jusnulin.', 'palsclave': 'Ucrania, Rusia, conflicto, nuclear', 'imagen': 'https://cdn.deperu.com/afp/fotos/b40830afdb67b1368b97f29cb63d6fd9ce185579.jpg', 'imagenpeque': 'https://cdn.deperu.com/afp/fotos/162fcf4380d781bfe03b1ad99b3dfaac3f1eadbc.jpg', 'url': 'https://www.deperu.com/noticias/rusia-quiere-cortar-a-ucrania-de-la-central-nuclear-de-zaporiyia-118454.html', 'fecha': 'Thu, 19 May 2022 04:56:54 -0500'}, {'titulo': 'La mitad de clientes extranjeros de Gazprom abrieron una cuenta en rublos, dice el gobierno ruso', 'resumen': 'Alrededor de la mitad de las empresas extranjeras con un contrato de suministro de gas con el gigante ruso Gazprom abrieron una cuenta en rublos en Gazprombank para honrar sus pagos, indicó el jueves el gobierno ruso.', 'palsclave': 'conflicto, petróleo, Ucrania, Rusia', 'imagen': 'https://cdn.deperu.com/afp/fotos/3f4e82afe5f7d989201422e41e7398d765663f2f.jpg', 'imagenpeque': 'https://cdn.deperu.com/afp/fotos/3d5e13d3a5fafee464f6e48a458e01bbfe71478e.jpg', 'url': 'https://www.deperu.com/noticias/la-mitad-de-clientes-extranjeros-de-gazprom-abrieron-una-cuenta-en-rublos-dice-el-gobierno-ruso-118452.html', 'fecha': 'Thu, 19 May 2022 04:14:34 -0500'}, {'titulo': 'Telefónica vende un 7% de Prisa (El País) por 34,1 millones de euros', 'resumen': 'La empresa española Telefónica anunció el jueves la venta de una participación del 7% en el grupo de prensa Prisa, propietaria del diario El País, por 34,1 millones de euros (casi 36 millones de dólares) a la sociedad también española Global Alconaba.', 'palsclave': 'España, telecomunicaciones, medios', 'imagen': 'https://cdn.deperu.com/afp/fotos/ea3e0f23d80c79b3214a1197a6d48428901366e4.jpg', 'imagenpeque': 'https://cdn.deperu.com/afp/fotos/192ea992d2b95f444590f862d8b8f38e764ed297.jpg', 'url': 'https://www.deperu.com/noticias/telefonica-vende-un-7-de-prisa-el-pais-por-341-millones-de-euros-118448.html', 'fecha': 'Thu, 19 May 2022 03:47:35 -0500'}, {'titulo': 'IAG, casa matriz de British Airways e Iberia, completa un pedido de 50 Boeing 737 con opción a 100 más', 'resumen': 'El grupo aéreo IAG, casa matriz de British Airways e Iberia, anunció este jueves que completó un pedido de 50 Boeing 737 MAX con opción a 100 más, en una operación por un monto estimado en unos 6.250 millones de dólares según el precio de catálogo. ', 'palsclave': 'GB, España, aeroespacial, inversión, aviación', 'imagen': 'https://cdn.deperu.com/afp/fotos/1d1e597d924f51abfe15f628254162836987387f.jpg', 'imagenpeque': 'https://cdn.deperu.com/afp/fotos/b8c35c6c2fe258e8455857fdf4666d7e7d1f3e4e.jpg', 'url': 'https://www.deperu.com/noticias/iag-casa-matriz-de-british-airways-e-iberia-completa-un-pedido-de-50-boeing-737-con-opcion-a-100-mas-118445.html', 'fecha': 'Thu, 19 May 2022 02:44:10 -0500'}, {'titulo': 'Easyjet reduce sus pérdidas y espera un verano boreal con vuelos a niveles pre-covid', 'resumen': 'La compañía aérea de bajo costo Easyjet publicó este jueves una pérdida neta reducida en el primer semestre (de su presupuesto (de octubre a marzo), gracias a la recuperación del tráfico aéreo pospandemia, y se muestra optimista de cara al verano boreal.', 'palsclave': 'GB, utilidades, aviación', 'imagen': 'https://cdn.deperu.com/afp/fotos/5f9ebf50bc92942b001b71062b80eb80fda219f4.jpg', 'imagenpeque': 'https://cdn.deperu.com/afp/fotos/3876316a83f9271c65e98ed951fb8beb1d9c267e.jpg', 'url': 'https://www.deperu.com/noticias/easyjet-reduce-sus-perdidas-y-espera-un-verano-boreal-con-vuelos-a-niveles-pre-covid-118446.html', 'fecha': 'Thu, 19 May 2022 01:28:35 -0500'}, {'titulo': 'Los países del G7 se movilizan para ayudar a la economía de Ucrania', 'resumen': 'Los países del G7 se reúnen este jueves y viernes en Königswinter, Alemania, para apoyar a la economía de Ucrania, castigada por la guerra lanzada por Rusia, intentando mantener a flote sus finanzas.', 'palsclave': 'G7, Ucrania, conflicto, Rusia, finanzas, diplomacia, economía', 'imagen': 'https://cdn.deperu.com/afp/fotos/c5e8172fd5ac439163ebce9da87622b8bd849349.jpg', 'imagenpeque': 'https://cdn.deperu.com/afp/fotos/696edc9d77cbdb04d3a300956a8ceecb2a157775.jpg', 'url': 'https://www.deperu.com/noticias/los-paises-del-g7-se-movilizan-para-ayudar-a-la-economia-de-ucrania-118447.html', 'fecha': 'Thu, 19 May 2022 01:26:18 -0500'}, {'titulo': 'Autora de \"Cómo asesinar a tu esposo\", enjuiciada por el asesinato de su esposo', 'resumen': None, 'palsclave': 'procès, homicide, littérature, USA', 'imagen': 'https://cdn.deperu.com/afp/fotos/e1c091c7ad012a3862aafa10c834c80d41103edb.jpg', 'imagenpeque': 'https://cdn.deperu.com/afp/fotos/7c906479847b572bd163003121244d4a05a62243.jpg', 'url': 'https://www.deperu.com/noticias/autora-de-como-asesinar-a-tu-esposo-enjuiciada-por-el-asesinato-de-su-esposo-118449.html', 'fecha': 'Thu, 19 May 2022 00:17:24 -0500'}, {'titulo': 'Arrestan a japonés que recibió 360.000 dólares en ayuda por covid por error', 'resumen': 'Un japonés que recibió erróneamente 360.000 dólares en ayuda por covid-19 fue detenido después de asegurar que perdió el dinero en apuestas, reveló la policía el jueves.', 'palsclave': 'Japan, crime, virus, offbeat', 'imagen': 'https://cdn.deperu.com/afp/fotos/cd6df648d729f83402b976f5e1f2223230984467.jpg', 'imagenpeque': 'https://cdn.deperu.com/afp/fotos/124453dc75df038d8b3337841e4ed6cea91dc197.jpg', 'url': 'https://www.deperu.com/noticias/arrestan-a-japones-que-recibio-360000-dolares-en-ayuda-por-covid-por-error-118444.html', 'fecha': 'Wed, 18 May 2022 23:08:16 -0500'}, {'titulo': 'Pediatras advierten que la fórmula casera de leche para bebés es insegura', 'resumen': 'Ante la escasez de leche en polvo para bebés en Estados Unidos algunos padres han recurrido a fórmulas caseras publicadas en redes sociales, pero pediatras desaconsejaron esas alternativas pues carecen de vitaminas y nutrientes clave para los pequeños.', 'palsclave': 'EEUU, economía, salud, desinformación, niños, alimentos', 'imagen': 'https://cdn.deperu.com/afp/fotos/fd1836c21babf31477b6e7294bf84faf26dea524.jpg', 'imagenpeque': 'https://cdn.deperu.com/afp/fotos/7e57733f8c163cb842c6474bf80ec98749ebecf4.jpg', 'url': 'https://www.deperu.com/noticias/pediatras-advierten-que-la-formula-casera-de-leche-para-bebes-es-insegura-118442.html', 'fecha': 'Wed, 18 May 2022 21:23:17 -0500'}, {'titulo': 'EEUU hará un puente aéreo para importar leche para bebés', 'resumen': 'Estados Unidos montará un puente aéreo para importar leche en polvo para bebés en aviones comerciales fletados por las fuerzas armadas para suplir la escasez de ese producto, dijo el miércoles la Casa Blanca.', 'palsclave': 'economía, niños, EEUU, alimentos, salud', 'imagen': 'https://cdn.deperu.com/afp/fotos/20259aad0d5e2f31fabe6980eda1dc6b8b96a18b.jpg', 'imagenpeque': 'https://cdn.deperu.com/afp/fotos/5ad802fcb471f4e730cfce595178f92c39d66cbf.jpg', 'url': 'https://www.deperu.com/noticias/eeuu-hara-un-puente-aereo-para-importar-leche-para-bebes-118443.html', 'fecha': 'Wed, 18 May 2022 19:04:42 -0500'}, {'titulo': 'Tribunal da luz verde a privatización de Eletrobras en Brasil', 'resumen': None, 'palsclave': 'Brasil, privatización, empresas, electricidad', 'imagen': 'https://cdn.deperu.com/afp/fotos/a0d4700f99e32643bc6cab9012583f0b3937902f.jpg', 'imagenpeque': 'https://cdn.deperu.com/afp/fotos/af6b7c0cf18c3bb2720cd9065ec3cc6e8f2e597f.jpg', 'url': 'https://www.deperu.com/noticias/tribunal-da-luz-verde-a-privatizacion-de-eletrobras-en-brasil-118441.html', 'fecha': 'Wed, 18 May 2022 17:40:14 -0500'}, {'titulo': 'Los delfines usan la orina para reconocer a sus amigos, según estudio', 'resumen': 'Piensa en las personas que conoces y en cómo puedes decir que sabías que estaban  por ahí incluso si no pudiste verlos. Tal vez puedas hacerlo por medio del sonido de la voz o por su perfume favorito.', 'palsclave': 'Science, animal, dolphins, science', 'imagen': 'https://cdn.deperu.com/afp/fotos/c561271d4934066ddfc2c798faa956a651070874.jpg', 'imagenpeque': 'https://cdn.deperu.com/afp/fotos/5d1f0aa74222609cd9252cc56c8091808376cd19.jpg', 'url': 'https://www.deperu.com/noticias/los-delfines-usan-la-orina-para-reconocer-a-sus-amigos-segun-estudio-118439.html', 'fecha': 'Wed, 18 May 2022 17:36:10 -0500'}, {'titulo': 'Mensajes engañosos dicen que la baja menstrual en España será para todas las mujeres', 'resumen': 'El proyecto de ley que establece una baja laboral en España por menstruaciones dolorosas fue objeto de cientos de críticas en redes sociales, donde los usuarios lo interpretaron como una autorización para que todas las mujeres puedan ausentarse del trabajo cuando tengan la regla.', 'palsclave': 'España, gobierno, legislación, salud', 'imagen': 'https://cdn.deperu.com/afp/fotos/d7d2e6771732d0eaf7d096436d1724f648e3f3c3.jpg', 'imagenpeque': 'https://cdn.deperu.com/afp/fotos/b09d9aa17b91cca5517614169583a652260c8469.jpg', 'url': 'https://www.deperu.com/noticias/mensajes-enganosos-dicen-que-la-baja-menstrual-en-espana-sera-para-todas-las-mujeres-118440.html', 'fecha': 'Wed, 18 May 2022 13:32:17 -0500'}]\n"
          ]
        }
      ]
    },
    {
      "cell_type": "code",
      "source": [
        "df = pd.DataFrame(data=json_data) #load the json data into a pandas dataframe"
      ],
      "metadata": {
        "id": "_PZ8fnrkr4-z"
      },
      "execution_count": 6,
      "outputs": []
    },
    {
      "cell_type": "code",
      "source": [
        "df.head(3) #let's see the 3 most recent news items (at the top of the dataframe)"
      ],
      "metadata": {
        "colab": {
          "base_uri": "https://localhost:8080/",
          "height": 430
        },
        "outputId": "0a63b891-a033-46d2-c4a6-3e3cf6a7e710",
        "id": "DUb6KyKBtOEA"
      },
      "execution_count": 7,
      "outputs": [
        {
          "output_type": "execute_result",
          "data": {
            "text/plain": [
              "                                              titulo  \\\n",
              "0  Jefe del OIEA ensalza \"avances notables\" en la...   \n",
              "1  La filial rusa de Google planea declararse en ...   \n",
              "2  Sri Lanka no podrá comenzar a pagar su deuda h...   \n",
              "\n",
              "                                             resumen  \\\n",
              "0  El proceso de desmantelamiento de la central n...   \n",
              "1  La filial rusa de Google anunció su intención ...   \n",
              "2  Sri Lanka no podrá comenzar a pagar su deuda a...   \n",
              "\n",
              "                                   palsclave  \\\n",
              "0                       nuclear, Japan, IAEA   \n",
              "1  Rusia, EEUU, conflicto, Ucrania, internet   \n",
              "2             SriLanka, deuda, FMI, economía   \n",
              "\n",
              "                                              imagen  \\\n",
              "0  https://cdn.deperu.com/afp/fotos/2446d22bcf337...   \n",
              "1  https://cdn.deperu.com/afp/fotos/8b4eea9c9acc1...   \n",
              "2  https://cdn.deperu.com/afp/fotos/59bd24292e3ab...   \n",
              "\n",
              "                                         imagenpeque  \\\n",
              "0  https://cdn.deperu.com/afp/fotos/b669465a76ecc...   \n",
              "1  https://cdn.deperu.com/afp/fotos/c0abd33fa524d...   \n",
              "2  https://cdn.deperu.com/afp/fotos/b8d7123c6e6df...   \n",
              "\n",
              "                                                 url  \\\n",
              "0  https://www.deperu.com/noticias/jefe-del-oiea-...   \n",
              "1  https://www.deperu.com/noticias/la-filial-rusa...   \n",
              "2  https://www.deperu.com/noticias/sri-lanka-no-p...   \n",
              "\n",
              "                             fecha  \n",
              "0  Thu, 19 May 2022 09:17:08 -0500  \n",
              "1  Thu, 19 May 2022 08:09:14 -0500  \n",
              "2  Thu, 19 May 2022 07:54:09 -0500  "
            ],
            "text/html": [
              "\n",
              "  <div id=\"df-e7598ffb-b577-485a-9619-d8b094635271\">\n",
              "    <div class=\"colab-df-container\">\n",
              "      <div>\n",
              "<style scoped>\n",
              "    .dataframe tbody tr th:only-of-type {\n",
              "        vertical-align: middle;\n",
              "    }\n",
              "\n",
              "    .dataframe tbody tr th {\n",
              "        vertical-align: top;\n",
              "    }\n",
              "\n",
              "    .dataframe thead th {\n",
              "        text-align: right;\n",
              "    }\n",
              "</style>\n",
              "<table border=\"1\" class=\"dataframe\">\n",
              "  <thead>\n",
              "    <tr style=\"text-align: right;\">\n",
              "      <th></th>\n",
              "      <th>titulo</th>\n",
              "      <th>resumen</th>\n",
              "      <th>palsclave</th>\n",
              "      <th>imagen</th>\n",
              "      <th>imagenpeque</th>\n",
              "      <th>url</th>\n",
              "      <th>fecha</th>\n",
              "    </tr>\n",
              "  </thead>\n",
              "  <tbody>\n",
              "    <tr>\n",
              "      <th>0</th>\n",
              "      <td>Jefe del OIEA ensalza \"avances notables\" en la...</td>\n",
              "      <td>El proceso de desmantelamiento de la central n...</td>\n",
              "      <td>nuclear, Japan, IAEA</td>\n",
              "      <td>https://cdn.deperu.com/afp/fotos/2446d22bcf337...</td>\n",
              "      <td>https://cdn.deperu.com/afp/fotos/b669465a76ecc...</td>\n",
              "      <td>https://www.deperu.com/noticias/jefe-del-oiea-...</td>\n",
              "      <td>Thu, 19 May 2022 09:17:08 -0500</td>\n",
              "    </tr>\n",
              "    <tr>\n",
              "      <th>1</th>\n",
              "      <td>La filial rusa de Google planea declararse en ...</td>\n",
              "      <td>La filial rusa de Google anunció su intención ...</td>\n",
              "      <td>Rusia, EEUU, conflicto, Ucrania, internet</td>\n",
              "      <td>https://cdn.deperu.com/afp/fotos/8b4eea9c9acc1...</td>\n",
              "      <td>https://cdn.deperu.com/afp/fotos/c0abd33fa524d...</td>\n",
              "      <td>https://www.deperu.com/noticias/la-filial-rusa...</td>\n",
              "      <td>Thu, 19 May 2022 08:09:14 -0500</td>\n",
              "    </tr>\n",
              "    <tr>\n",
              "      <th>2</th>\n",
              "      <td>Sri Lanka no podrá comenzar a pagar su deuda h...</td>\n",
              "      <td>Sri Lanka no podrá comenzar a pagar su deuda a...</td>\n",
              "      <td>SriLanka, deuda, FMI, economía</td>\n",
              "      <td>https://cdn.deperu.com/afp/fotos/59bd24292e3ab...</td>\n",
              "      <td>https://cdn.deperu.com/afp/fotos/b8d7123c6e6df...</td>\n",
              "      <td>https://www.deperu.com/noticias/sri-lanka-no-p...</td>\n",
              "      <td>Thu, 19 May 2022 07:54:09 -0500</td>\n",
              "    </tr>\n",
              "  </tbody>\n",
              "</table>\n",
              "</div>\n",
              "      <button class=\"colab-df-convert\" onclick=\"convertToInteractive('df-e7598ffb-b577-485a-9619-d8b094635271')\"\n",
              "              title=\"Convert this dataframe to an interactive table.\"\n",
              "              style=\"display:none;\">\n",
              "        \n",
              "  <svg xmlns=\"http://www.w3.org/2000/svg\" height=\"24px\"viewBox=\"0 0 24 24\"\n",
              "       width=\"24px\">\n",
              "    <path d=\"M0 0h24v24H0V0z\" fill=\"none\"/>\n",
              "    <path d=\"M18.56 5.44l.94 2.06.94-2.06 2.06-.94-2.06-.94-.94-2.06-.94 2.06-2.06.94zm-11 1L8.5 8.5l.94-2.06 2.06-.94-2.06-.94L8.5 2.5l-.94 2.06-2.06.94zm10 10l.94 2.06.94-2.06 2.06-.94-2.06-.94-.94-2.06-.94 2.06-2.06.94z\"/><path d=\"M17.41 7.96l-1.37-1.37c-.4-.4-.92-.59-1.43-.59-.52 0-1.04.2-1.43.59L10.3 9.45l-7.72 7.72c-.78.78-.78 2.05 0 2.83L4 21.41c.39.39.9.59 1.41.59.51 0 1.02-.2 1.41-.59l7.78-7.78 2.81-2.81c.8-.78.8-2.07 0-2.86zM5.41 20L4 18.59l7.72-7.72 1.47 1.35L5.41 20z\"/>\n",
              "  </svg>\n",
              "      </button>\n",
              "      \n",
              "  <style>\n",
              "    .colab-df-container {\n",
              "      display:flex;\n",
              "      flex-wrap:wrap;\n",
              "      gap: 12px;\n",
              "    }\n",
              "\n",
              "    .colab-df-convert {\n",
              "      background-color: #E8F0FE;\n",
              "      border: none;\n",
              "      border-radius: 50%;\n",
              "      cursor: pointer;\n",
              "      display: none;\n",
              "      fill: #1967D2;\n",
              "      height: 32px;\n",
              "      padding: 0 0 0 0;\n",
              "      width: 32px;\n",
              "    }\n",
              "\n",
              "    .colab-df-convert:hover {\n",
              "      background-color: #E2EBFA;\n",
              "      box-shadow: 0px 1px 2px rgba(60, 64, 67, 0.3), 0px 1px 3px 1px rgba(60, 64, 67, 0.15);\n",
              "      fill: #174EA6;\n",
              "    }\n",
              "\n",
              "    [theme=dark] .colab-df-convert {\n",
              "      background-color: #3B4455;\n",
              "      fill: #D2E3FC;\n",
              "    }\n",
              "\n",
              "    [theme=dark] .colab-df-convert:hover {\n",
              "      background-color: #434B5C;\n",
              "      box-shadow: 0px 1px 3px 1px rgba(0, 0, 0, 0.15);\n",
              "      filter: drop-shadow(0px 1px 2px rgba(0, 0, 0, 0.3));\n",
              "      fill: #FFFFFF;\n",
              "    }\n",
              "  </style>\n",
              "\n",
              "      <script>\n",
              "        const buttonEl =\n",
              "          document.querySelector('#df-e7598ffb-b577-485a-9619-d8b094635271 button.colab-df-convert');\n",
              "        buttonEl.style.display =\n",
              "          google.colab.kernel.accessAllowed ? 'block' : 'none';\n",
              "\n",
              "        async function convertToInteractive(key) {\n",
              "          const element = document.querySelector('#df-e7598ffb-b577-485a-9619-d8b094635271');\n",
              "          const dataTable =\n",
              "            await google.colab.kernel.invokeFunction('convertToInteractive',\n",
              "                                                     [key], {});\n",
              "          if (!dataTable) return;\n",
              "\n",
              "          const docLinkHtml = 'Like what you see? Visit the ' +\n",
              "            '<a target=\"_blank\" href=https://colab.research.google.com/notebooks/data_table.ipynb>data table notebook</a>'\n",
              "            + ' to learn more about interactive tables.';\n",
              "          element.innerHTML = '';\n",
              "          dataTable['output_type'] = 'display_data';\n",
              "          await google.colab.output.renderOutput(dataTable, element);\n",
              "          const docLink = document.createElement('div');\n",
              "          docLink.innerHTML = docLinkHtml;\n",
              "          element.appendChild(docLink);\n",
              "        }\n",
              "      </script>\n",
              "    </div>\n",
              "  </div>\n",
              "  "
            ]
          },
          "metadata": {},
          "execution_count": 7
        }
      ]
    },
    {
      "cell_type": "code",
      "source": [
        "df.info() #number of records, columns, non-nulls, and data type"
      ],
      "metadata": {
        "colab": {
          "base_uri": "https://localhost:8080/"
        },
        "id": "foieXBqPwWcg",
        "outputId": "19e81a65-816c-42ee-8230-046b426ae923"
      },
      "execution_count": 8,
      "outputs": [
        {
          "output_type": "stream",
          "name": "stdout",
          "text": [
            "<class 'pandas.core.frame.DataFrame'>\n",
            "RangeIndex: 24 entries, 0 to 23\n",
            "Data columns (total 7 columns):\n",
            " #   Column       Non-Null Count  Dtype \n",
            "---  ------       --------------  ----- \n",
            " 0   titulo       24 non-null     object\n",
            " 1   resumen      22 non-null     object\n",
            " 2   palsclave    24 non-null     object\n",
            " 3   imagen       24 non-null     object\n",
            " 4   imagenpeque  24 non-null     object\n",
            " 5   url          24 non-null     object\n",
            " 6   fecha        24 non-null     object\n",
            "dtypes: object(7)\n",
            "memory usage: 1.4+ KB\n"
          ]
        }
      ]
    },
    {
      "cell_type": "code",
      "source": [
        "df.describe() #some additional data about the deta set"
      ],
      "metadata": {
        "colab": {
          "base_uri": "https://localhost:8080/",
          "height": 326
        },
        "id": "Z2IOGAPMv_a2",
        "outputId": "3e8b3f7a-e4d5-439e-e83a-10125d25f009"
      },
      "execution_count": 9,
      "outputs": [
        {
          "output_type": "execute_result",
          "data": {
            "text/plain": [
              "                                                   titulo  \\\n",
              "count                                                  24   \n",
              "unique                                                 24   \n",
              "top     Jefe del OIEA ensalza \"avances notables\" en la...   \n",
              "freq                                                    1   \n",
              "\n",
              "                                                  resumen  \\\n",
              "count                                                  22   \n",
              "unique                                                 22   \n",
              "top     El proceso de desmantelamiento de la central n...   \n",
              "freq                                                    1   \n",
              "\n",
              "                   palsclave  \\\n",
              "count                     24   \n",
              "unique                    24   \n",
              "top     nuclear, Japan, IAEA   \n",
              "freq                       1   \n",
              "\n",
              "                                                   imagen  \\\n",
              "count                                                  24   \n",
              "unique                                                 24   \n",
              "top     https://cdn.deperu.com/afp/fotos/2446d22bcf337...   \n",
              "freq                                                    1   \n",
              "\n",
              "                                              imagenpeque  \\\n",
              "count                                                  24   \n",
              "unique                                                 24   \n",
              "top     https://cdn.deperu.com/afp/fotos/b669465a76ecc...   \n",
              "freq                                                    1   \n",
              "\n",
              "                                                      url  \\\n",
              "count                                                  24   \n",
              "unique                                                 24   \n",
              "top     https://www.deperu.com/noticias/jefe-del-oiea-...   \n",
              "freq                                                    1   \n",
              "\n",
              "                                  fecha  \n",
              "count                                24  \n",
              "unique                               24  \n",
              "top     Thu, 19 May 2022 09:17:08 -0500  \n",
              "freq                                  1  "
            ],
            "text/html": [
              "\n",
              "  <div id=\"df-ffc7460b-d467-4b37-b1e2-94d377022b72\">\n",
              "    <div class=\"colab-df-container\">\n",
              "      <div>\n",
              "<style scoped>\n",
              "    .dataframe tbody tr th:only-of-type {\n",
              "        vertical-align: middle;\n",
              "    }\n",
              "\n",
              "    .dataframe tbody tr th {\n",
              "        vertical-align: top;\n",
              "    }\n",
              "\n",
              "    .dataframe thead th {\n",
              "        text-align: right;\n",
              "    }\n",
              "</style>\n",
              "<table border=\"1\" class=\"dataframe\">\n",
              "  <thead>\n",
              "    <tr style=\"text-align: right;\">\n",
              "      <th></th>\n",
              "      <th>titulo</th>\n",
              "      <th>resumen</th>\n",
              "      <th>palsclave</th>\n",
              "      <th>imagen</th>\n",
              "      <th>imagenpeque</th>\n",
              "      <th>url</th>\n",
              "      <th>fecha</th>\n",
              "    </tr>\n",
              "  </thead>\n",
              "  <tbody>\n",
              "    <tr>\n",
              "      <th>count</th>\n",
              "      <td>24</td>\n",
              "      <td>22</td>\n",
              "      <td>24</td>\n",
              "      <td>24</td>\n",
              "      <td>24</td>\n",
              "      <td>24</td>\n",
              "      <td>24</td>\n",
              "    </tr>\n",
              "    <tr>\n",
              "      <th>unique</th>\n",
              "      <td>24</td>\n",
              "      <td>22</td>\n",
              "      <td>24</td>\n",
              "      <td>24</td>\n",
              "      <td>24</td>\n",
              "      <td>24</td>\n",
              "      <td>24</td>\n",
              "    </tr>\n",
              "    <tr>\n",
              "      <th>top</th>\n",
              "      <td>Jefe del OIEA ensalza \"avances notables\" en la...</td>\n",
              "      <td>El proceso de desmantelamiento de la central n...</td>\n",
              "      <td>nuclear, Japan, IAEA</td>\n",
              "      <td>https://cdn.deperu.com/afp/fotos/2446d22bcf337...</td>\n",
              "      <td>https://cdn.deperu.com/afp/fotos/b669465a76ecc...</td>\n",
              "      <td>https://www.deperu.com/noticias/jefe-del-oiea-...</td>\n",
              "      <td>Thu, 19 May 2022 09:17:08 -0500</td>\n",
              "    </tr>\n",
              "    <tr>\n",
              "      <th>freq</th>\n",
              "      <td>1</td>\n",
              "      <td>1</td>\n",
              "      <td>1</td>\n",
              "      <td>1</td>\n",
              "      <td>1</td>\n",
              "      <td>1</td>\n",
              "      <td>1</td>\n",
              "    </tr>\n",
              "  </tbody>\n",
              "</table>\n",
              "</div>\n",
              "      <button class=\"colab-df-convert\" onclick=\"convertToInteractive('df-ffc7460b-d467-4b37-b1e2-94d377022b72')\"\n",
              "              title=\"Convert this dataframe to an interactive table.\"\n",
              "              style=\"display:none;\">\n",
              "        \n",
              "  <svg xmlns=\"http://www.w3.org/2000/svg\" height=\"24px\"viewBox=\"0 0 24 24\"\n",
              "       width=\"24px\">\n",
              "    <path d=\"M0 0h24v24H0V0z\" fill=\"none\"/>\n",
              "    <path d=\"M18.56 5.44l.94 2.06.94-2.06 2.06-.94-2.06-.94-.94-2.06-.94 2.06-2.06.94zm-11 1L8.5 8.5l.94-2.06 2.06-.94-2.06-.94L8.5 2.5l-.94 2.06-2.06.94zm10 10l.94 2.06.94-2.06 2.06-.94-2.06-.94-.94-2.06-.94 2.06-2.06.94z\"/><path d=\"M17.41 7.96l-1.37-1.37c-.4-.4-.92-.59-1.43-.59-.52 0-1.04.2-1.43.59L10.3 9.45l-7.72 7.72c-.78.78-.78 2.05 0 2.83L4 21.41c.39.39.9.59 1.41.59.51 0 1.02-.2 1.41-.59l7.78-7.78 2.81-2.81c.8-.78.8-2.07 0-2.86zM5.41 20L4 18.59l7.72-7.72 1.47 1.35L5.41 20z\"/>\n",
              "  </svg>\n",
              "      </button>\n",
              "      \n",
              "  <style>\n",
              "    .colab-df-container {\n",
              "      display:flex;\n",
              "      flex-wrap:wrap;\n",
              "      gap: 12px;\n",
              "    }\n",
              "\n",
              "    .colab-df-convert {\n",
              "      background-color: #E8F0FE;\n",
              "      border: none;\n",
              "      border-radius: 50%;\n",
              "      cursor: pointer;\n",
              "      display: none;\n",
              "      fill: #1967D2;\n",
              "      height: 32px;\n",
              "      padding: 0 0 0 0;\n",
              "      width: 32px;\n",
              "    }\n",
              "\n",
              "    .colab-df-convert:hover {\n",
              "      background-color: #E2EBFA;\n",
              "      box-shadow: 0px 1px 2px rgba(60, 64, 67, 0.3), 0px 1px 3px 1px rgba(60, 64, 67, 0.15);\n",
              "      fill: #174EA6;\n",
              "    }\n",
              "\n",
              "    [theme=dark] .colab-df-convert {\n",
              "      background-color: #3B4455;\n",
              "      fill: #D2E3FC;\n",
              "    }\n",
              "\n",
              "    [theme=dark] .colab-df-convert:hover {\n",
              "      background-color: #434B5C;\n",
              "      box-shadow: 0px 1px 3px 1px rgba(0, 0, 0, 0.15);\n",
              "      filter: drop-shadow(0px 1px 2px rgba(0, 0, 0, 0.3));\n",
              "      fill: #FFFFFF;\n",
              "    }\n",
              "  </style>\n",
              "\n",
              "      <script>\n",
              "        const buttonEl =\n",
              "          document.querySelector('#df-ffc7460b-d467-4b37-b1e2-94d377022b72 button.colab-df-convert');\n",
              "        buttonEl.style.display =\n",
              "          google.colab.kernel.accessAllowed ? 'block' : 'none';\n",
              "\n",
              "        async function convertToInteractive(key) {\n",
              "          const element = document.querySelector('#df-ffc7460b-d467-4b37-b1e2-94d377022b72');\n",
              "          const dataTable =\n",
              "            await google.colab.kernel.invokeFunction('convertToInteractive',\n",
              "                                                     [key], {});\n",
              "          if (!dataTable) return;\n",
              "\n",
              "          const docLinkHtml = 'Like what you see? Visit the ' +\n",
              "            '<a target=\"_blank\" href=https://colab.research.google.com/notebooks/data_table.ipynb>data table notebook</a>'\n",
              "            + ' to learn more about interactive tables.';\n",
              "          element.innerHTML = '';\n",
              "          dataTable['output_type'] = 'display_data';\n",
              "          await google.colab.output.renderOutput(dataTable, element);\n",
              "          const docLink = document.createElement('div');\n",
              "          docLink.innerHTML = docLinkHtml;\n",
              "          element.appendChild(docLink);\n",
              "        }\n",
              "      </script>\n",
              "    </div>\n",
              "  </div>\n",
              "  "
            ]
          },
          "metadata": {},
          "execution_count": 9
        }
      ]
    },
    {
      "cell_type": "code",
      "source": [
        "df.shape[1] #total number of columns"
      ],
      "metadata": {
        "colab": {
          "base_uri": "https://localhost:8080/"
        },
        "id": "ZIsKs37cxBdS",
        "outputId": "31881e1c-fd6e-4107-ac44-24ab878f4528"
      },
      "execution_count": 10,
      "outputs": [
        {
          "output_type": "execute_result",
          "data": {
            "text/plain": [
              "7"
            ]
          },
          "metadata": {},
          "execution_count": 10
        }
      ]
    },
    {
      "cell_type": "code",
      "source": [
        "df.shape[0] #total number of rows or records"
      ],
      "metadata": {
        "colab": {
          "base_uri": "https://localhost:8080/"
        },
        "id": "ZkTn2KZHyQvd",
        "outputId": "8a8fe28f-2158-4416-9230-af0c77a178a8"
      },
      "execution_count": 11,
      "outputs": [
        {
          "output_type": "execute_result",
          "data": {
            "text/plain": [
              "24"
            ]
          },
          "metadata": {},
          "execution_count": 11
        }
      ]
    },
    {
      "cell_type": "code",
      "source": [
        "df[df.palsclave.str.contains('Ucrania')].shape[0] #total number of news items about Ukraine"
      ],
      "metadata": {
        "colab": {
          "base_uri": "https://localhost:8080/"
        },
        "id": "6AZVq6CYr5Bn",
        "outputId": "7f8569ca-aac5-4746-b782-40990c51cb9a"
      },
      "execution_count": 12,
      "outputs": [
        {
          "output_type": "execute_result",
          "data": {
            "text/plain": [
              "6"
            ]
          },
          "metadata": {},
          "execution_count": 12
        }
      ]
    },
    {
      "cell_type": "code",
      "source": [
        "df['resumen'].isna().sum() #total number of NULL records in news items"
      ],
      "metadata": {
        "colab": {
          "base_uri": "https://localhost:8080/"
        },
        "id": "VD4bfHtDr5Hh",
        "outputId": "21481032-0fa4-472b-b5ad-c70bec4a5d5b"
      },
      "execution_count": 13,
      "outputs": [
        {
          "output_type": "execute_result",
          "data": {
            "text/plain": [
              "2"
            ]
          },
          "metadata": {},
          "execution_count": 13
        }
      ]
    },
    {
      "cell_type": "code",
      "source": [
        "df[df.palsclave.str.contains('gas')] #show any new items about gas"
      ],
      "metadata": {
        "colab": {
          "base_uri": "https://localhost:8080/",
          "height": 194
        },
        "id": "D-SqIzfKr5KP",
        "outputId": "4716f169-e1a6-4caf-fbfc-612f805e4726"
      },
      "execution_count": 14,
      "outputs": [
        {
          "output_type": "execute_result",
          "data": {
            "text/plain": [
              "                                              titulo  \\\n",
              "7  Italia advierte de que llevará más tiempo logr...   \n",
              "\n",
              "                                             resumen  \\\n",
              "7  El primer ministro italiano, Mario Draghi, adv...   \n",
              "\n",
              "                                          palsclave  \\\n",
              "7  Italia, Ucrania, Rusia, conflcito, petróleo, gas   \n",
              "\n",
              "                                              imagen  \\\n",
              "7  https://cdn.deperu.com/afp/fotos/d14750febc7e0...   \n",
              "\n",
              "                                         imagenpeque  \\\n",
              "7  https://cdn.deperu.com/afp/fotos/39ccd331358b5...   \n",
              "\n",
              "                                                 url  \\\n",
              "7  https://www.deperu.com/noticias/italia-adviert...   \n",
              "\n",
              "                             fecha  \n",
              "7  Thu, 19 May 2022 06:15:31 -0500  "
            ],
            "text/html": [
              "\n",
              "  <div id=\"df-7f1fa71e-6e16-4b7c-b5bb-0ce1cf8eb4ac\">\n",
              "    <div class=\"colab-df-container\">\n",
              "      <div>\n",
              "<style scoped>\n",
              "    .dataframe tbody tr th:only-of-type {\n",
              "        vertical-align: middle;\n",
              "    }\n",
              "\n",
              "    .dataframe tbody tr th {\n",
              "        vertical-align: top;\n",
              "    }\n",
              "\n",
              "    .dataframe thead th {\n",
              "        text-align: right;\n",
              "    }\n",
              "</style>\n",
              "<table border=\"1\" class=\"dataframe\">\n",
              "  <thead>\n",
              "    <tr style=\"text-align: right;\">\n",
              "      <th></th>\n",
              "      <th>titulo</th>\n",
              "      <th>resumen</th>\n",
              "      <th>palsclave</th>\n",
              "      <th>imagen</th>\n",
              "      <th>imagenpeque</th>\n",
              "      <th>url</th>\n",
              "      <th>fecha</th>\n",
              "    </tr>\n",
              "  </thead>\n",
              "  <tbody>\n",
              "    <tr>\n",
              "      <th>7</th>\n",
              "      <td>Italia advierte de que llevará más tiempo logr...</td>\n",
              "      <td>El primer ministro italiano, Mario Draghi, adv...</td>\n",
              "      <td>Italia, Ucrania, Rusia, conflcito, petróleo, gas</td>\n",
              "      <td>https://cdn.deperu.com/afp/fotos/d14750febc7e0...</td>\n",
              "      <td>https://cdn.deperu.com/afp/fotos/39ccd331358b5...</td>\n",
              "      <td>https://www.deperu.com/noticias/italia-adviert...</td>\n",
              "      <td>Thu, 19 May 2022 06:15:31 -0500</td>\n",
              "    </tr>\n",
              "  </tbody>\n",
              "</table>\n",
              "</div>\n",
              "      <button class=\"colab-df-convert\" onclick=\"convertToInteractive('df-7f1fa71e-6e16-4b7c-b5bb-0ce1cf8eb4ac')\"\n",
              "              title=\"Convert this dataframe to an interactive table.\"\n",
              "              style=\"display:none;\">\n",
              "        \n",
              "  <svg xmlns=\"http://www.w3.org/2000/svg\" height=\"24px\"viewBox=\"0 0 24 24\"\n",
              "       width=\"24px\">\n",
              "    <path d=\"M0 0h24v24H0V0z\" fill=\"none\"/>\n",
              "    <path d=\"M18.56 5.44l.94 2.06.94-2.06 2.06-.94-2.06-.94-.94-2.06-.94 2.06-2.06.94zm-11 1L8.5 8.5l.94-2.06 2.06-.94-2.06-.94L8.5 2.5l-.94 2.06-2.06.94zm10 10l.94 2.06.94-2.06 2.06-.94-2.06-.94-.94-2.06-.94 2.06-2.06.94z\"/><path d=\"M17.41 7.96l-1.37-1.37c-.4-.4-.92-.59-1.43-.59-.52 0-1.04.2-1.43.59L10.3 9.45l-7.72 7.72c-.78.78-.78 2.05 0 2.83L4 21.41c.39.39.9.59 1.41.59.51 0 1.02-.2 1.41-.59l7.78-7.78 2.81-2.81c.8-.78.8-2.07 0-2.86zM5.41 20L4 18.59l7.72-7.72 1.47 1.35L5.41 20z\"/>\n",
              "  </svg>\n",
              "      </button>\n",
              "      \n",
              "  <style>\n",
              "    .colab-df-container {\n",
              "      display:flex;\n",
              "      flex-wrap:wrap;\n",
              "      gap: 12px;\n",
              "    }\n",
              "\n",
              "    .colab-df-convert {\n",
              "      background-color: #E8F0FE;\n",
              "      border: none;\n",
              "      border-radius: 50%;\n",
              "      cursor: pointer;\n",
              "      display: none;\n",
              "      fill: #1967D2;\n",
              "      height: 32px;\n",
              "      padding: 0 0 0 0;\n",
              "      width: 32px;\n",
              "    }\n",
              "\n",
              "    .colab-df-convert:hover {\n",
              "      background-color: #E2EBFA;\n",
              "      box-shadow: 0px 1px 2px rgba(60, 64, 67, 0.3), 0px 1px 3px 1px rgba(60, 64, 67, 0.15);\n",
              "      fill: #174EA6;\n",
              "    }\n",
              "\n",
              "    [theme=dark] .colab-df-convert {\n",
              "      background-color: #3B4455;\n",
              "      fill: #D2E3FC;\n",
              "    }\n",
              "\n",
              "    [theme=dark] .colab-df-convert:hover {\n",
              "      background-color: #434B5C;\n",
              "      box-shadow: 0px 1px 3px 1px rgba(0, 0, 0, 0.15);\n",
              "      filter: drop-shadow(0px 1px 2px rgba(0, 0, 0, 0.3));\n",
              "      fill: #FFFFFF;\n",
              "    }\n",
              "  </style>\n",
              "\n",
              "      <script>\n",
              "        const buttonEl =\n",
              "          document.querySelector('#df-7f1fa71e-6e16-4b7c-b5bb-0ce1cf8eb4ac button.colab-df-convert');\n",
              "        buttonEl.style.display =\n",
              "          google.colab.kernel.accessAllowed ? 'block' : 'none';\n",
              "\n",
              "        async function convertToInteractive(key) {\n",
              "          const element = document.querySelector('#df-7f1fa71e-6e16-4b7c-b5bb-0ce1cf8eb4ac');\n",
              "          const dataTable =\n",
              "            await google.colab.kernel.invokeFunction('convertToInteractive',\n",
              "                                                     [key], {});\n",
              "          if (!dataTable) return;\n",
              "\n",
              "          const docLinkHtml = 'Like what you see? Visit the ' +\n",
              "            '<a target=\"_blank\" href=https://colab.research.google.com/notebooks/data_table.ipynb>data table notebook</a>'\n",
              "            + ' to learn more about interactive tables.';\n",
              "          element.innerHTML = '';\n",
              "          dataTable['output_type'] = 'display_data';\n",
              "          await google.colab.output.renderOutput(dataTable, element);\n",
              "          const docLink = document.createElement('div');\n",
              "          docLink.innerHTML = docLinkHtml;\n",
              "          element.appendChild(docLink);\n",
              "        }\n",
              "      </script>\n",
              "    </div>\n",
              "  </div>\n",
              "  "
            ]
          },
          "metadata": {},
          "execution_count": 14
        }
      ]
    },
    {
      "cell_type": "code",
      "source": [
        "print(df[df.palsclave.str.contains('gas')]) #details on the gas news items in Peru"
      ],
      "metadata": {
        "colab": {
          "base_uri": "https://localhost:8080/"
        },
        "id": "23FpEhbKr5NR",
        "outputId": "5293ae3e-e237-44b0-e8ba-ea3026d8a6f2"
      },
      "execution_count": 15,
      "outputs": [
        {
          "output_type": "stream",
          "name": "stdout",
          "text": [
            "                                              titulo  \\\n",
            "7  Italia advierte de que llevará más tiempo logr...   \n",
            "\n",
            "                                             resumen  \\\n",
            "7  El primer ministro italiano, Mario Draghi, adv...   \n",
            "\n",
            "                                          palsclave  \\\n",
            "7  Italia, Ucrania, Rusia, conflcito, petróleo, gas   \n",
            "\n",
            "                                              imagen  \\\n",
            "7  https://cdn.deperu.com/afp/fotos/d14750febc7e0...   \n",
            "\n",
            "                                         imagenpeque  \\\n",
            "7  https://cdn.deperu.com/afp/fotos/39ccd331358b5...   \n",
            "\n",
            "                                                 url  \\\n",
            "7  https://www.deperu.com/noticias/italia-adviert...   \n",
            "\n",
            "                             fecha  \n",
            "7  Thu, 19 May 2022 06:15:31 -0500  \n"
          ]
        }
      ]
    },
    {
      "cell_type": "code",
      "source": [
        "print(df[df.palsclave.str.contains('gas')].iloc[0,0]) #let's see the scalar/full title slug"
      ],
      "metadata": {
        "colab": {
          "base_uri": "https://localhost:8080/"
        },
        "id": "RVqjHZ7Hr5Qi",
        "outputId": "78944a6d-6bcd-4428-c567-0d13688b1e6d"
      },
      "execution_count": 16,
      "outputs": [
        {
          "output_type": "stream",
          "name": "stdout",
          "text": [
            "Italia advierte de que llevará más tiempo lograr la independencia del gas ruso\n"
          ]
        }
      ]
    },
    {
      "cell_type": "code",
      "source": [
        "print(df[df.palsclave.str.contains('gas')].iloc[0,1]) #let's see the scalar/full news item"
      ],
      "metadata": {
        "colab": {
          "base_uri": "https://localhost:8080/"
        },
        "id": "tyG5LqC9r5Tl",
        "outputId": "fadf0daf-c0c7-4933-9088-392c2a09c2f9"
      },
      "execution_count": 17,
      "outputs": [
        {
          "output_type": "stream",
          "name": "stdout",
          "text": [
            "El primer ministro italiano, Mario Draghi, advirtió este jueves que Italia logrará la independiente del gas ruso hacia el segundo semestre del 2024, lo que implica más tiempo del inicialmente calculado.\n"
          ]
        }
      ]
    },
    {
      "cell_type": "code",
      "source": [
        "print(df[df.palsclave.str.contains('gas')].iloc[0,5]) #let's see the scalar/full link so we can click on it"
      ],
      "metadata": {
        "colab": {
          "base_uri": "https://localhost:8080/"
        },
        "id": "XFp8KmXDr5W8",
        "outputId": "6afc632d-87ae-44e0-e599-ef4eec66dac0"
      },
      "execution_count": 18,
      "outputs": [
        {
          "output_type": "stream",
          "name": "stdout",
          "text": [
            "https://www.deperu.com/noticias/italia-advierte-de-que-llevara-mas-tiempo-lograr-la-independencia-del-gas-ruso-118451.html\n"
          ]
        }
      ]
    },
    {
      "cell_type": "code",
      "source": [
        "df[['resumen', 'palsclave']] #select and print columns 2 and 3"
      ],
      "metadata": {
        "colab": {
          "base_uri": "https://localhost:8080/",
          "height": 802
        },
        "id": "pSOexLGJr5aJ",
        "outputId": "b47973f4-7271-47d5-a4e5-d00ad7dadac8"
      },
      "execution_count": 19,
      "outputs": [
        {
          "output_type": "execute_result",
          "data": {
            "text/plain": [
              "                                              resumen  \\\n",
              "0   El proceso de desmantelamiento de la central n...   \n",
              "1   La filial rusa de Google anunció su intención ...   \n",
              "2   Sri Lanka no podrá comenzar a pagar su deuda a...   \n",
              "3   La Organización Mundial de la Salud anunció el...   \n",
              "4   Un navío fue atacado frente a las costas de Ye...   \n",
              "5   En una comunidad agrícola de Galilea, una empr...   \n",
              "6   Indonesia va a autorizar a partir de la semana...   \n",
              "7   El primer ministro italiano, Mario Draghi, adv...   \n",
              "8   Las autoridades sanitarias suecas anunciaron l...   \n",
              "9   China se pronunció este jueves en contra de qu...   \n",
              "10  El gobierno británico anunció el jueves nuevas...   \n",
              "11  Rusia quiere cortar a Ucrania de su central nu...   \n",
              "12  Alrededor de la mitad de las empresas extranje...   \n",
              "13  La empresa española Telefónica anunció el juev...   \n",
              "14  El grupo aéreo IAG, casa matriz de British Air...   \n",
              "15  La compañía aérea de bajo costo Easyjet public...   \n",
              "16  Los países del G7 se reúnen este jueves y vier...   \n",
              "17                                               None   \n",
              "18  Un japonés que recibió erróneamente 360.000 dó...   \n",
              "19  Ante la escasez de leche en polvo para bebés e...   \n",
              "20  Estados Unidos montará un puente aéreo para im...   \n",
              "21                                               None   \n",
              "22  Piensa en las personas que conoces y en cómo p...   \n",
              "23  El proyecto de ley que establece una baja labo...   \n",
              "\n",
              "                                            palsclave  \n",
              "0                                nuclear, Japan, IAEA  \n",
              "1           Rusia, EEUU, conflicto, Ucrania, internet  \n",
              "2                      SriLanka, deuda, FMI, economía  \n",
              "3   pandemia, farmacéutica, ONU, epidemia, China, ...  \n",
              "4                        Yemen, seguridad, transporte  \n",
              "5   Israël, agriculture, technologies, animaux, en...  \n",
              "6   Indonesia, gobierno, mercado, exportaciones, a...  \n",
              "7    Italia, Ucrania, Rusia, conflcito, petróleo, gas  \n",
              "8   UE, Canadá, USA, enfermedad, GB, Portugal, Sue...  \n",
              "9                China, Taiwán, política, EEUU, salud  \n",
              "10  GB, Rusia, Ucrania, conflicto, gobierno, diplo...  \n",
              "11                 Ucrania, Rusia, conflicto, nuclear  \n",
              "12                conflicto, petróleo, Ucrania, Rusia  \n",
              "13                 España, telecomunicaciones, medios  \n",
              "14      GB, España, aeroespacial, inversión, aviación  \n",
              "15                           GB, utilidades, aviación  \n",
              "16  G7, Ucrania, conflicto, Rusia, finanzas, diplo...  \n",
              "17                 procès, homicide, littérature, USA  \n",
              "18                       Japan, crime, virus, offbeat  \n",
              "19  EEUU, economía, salud, desinformación, niños, ...  \n",
              "20            economía, niños, EEUU, alimentos, salud  \n",
              "21      Brasil, privatización, empresas, electricidad  \n",
              "22                 Science, animal, dolphins, science  \n",
              "23               España, gobierno, legislación, salud  "
            ],
            "text/html": [
              "\n",
              "  <div id=\"df-bec27b91-6630-48dc-ab49-166141587d9e\">\n",
              "    <div class=\"colab-df-container\">\n",
              "      <div>\n",
              "<style scoped>\n",
              "    .dataframe tbody tr th:only-of-type {\n",
              "        vertical-align: middle;\n",
              "    }\n",
              "\n",
              "    .dataframe tbody tr th {\n",
              "        vertical-align: top;\n",
              "    }\n",
              "\n",
              "    .dataframe thead th {\n",
              "        text-align: right;\n",
              "    }\n",
              "</style>\n",
              "<table border=\"1\" class=\"dataframe\">\n",
              "  <thead>\n",
              "    <tr style=\"text-align: right;\">\n",
              "      <th></th>\n",
              "      <th>resumen</th>\n",
              "      <th>palsclave</th>\n",
              "    </tr>\n",
              "  </thead>\n",
              "  <tbody>\n",
              "    <tr>\n",
              "      <th>0</th>\n",
              "      <td>El proceso de desmantelamiento de la central n...</td>\n",
              "      <td>nuclear, Japan, IAEA</td>\n",
              "    </tr>\n",
              "    <tr>\n",
              "      <th>1</th>\n",
              "      <td>La filial rusa de Google anunció su intención ...</td>\n",
              "      <td>Rusia, EEUU, conflicto, Ucrania, internet</td>\n",
              "    </tr>\n",
              "    <tr>\n",
              "      <th>2</th>\n",
              "      <td>Sri Lanka no podrá comenzar a pagar su deuda a...</td>\n",
              "      <td>SriLanka, deuda, FMI, economía</td>\n",
              "    </tr>\n",
              "    <tr>\n",
              "      <th>3</th>\n",
              "      <td>La Organización Mundial de la Salud anunció el...</td>\n",
              "      <td>pandemia, farmacéutica, ONU, epidemia, China, ...</td>\n",
              "    </tr>\n",
              "    <tr>\n",
              "      <th>4</th>\n",
              "      <td>Un navío fue atacado frente a las costas de Ye...</td>\n",
              "      <td>Yemen, seguridad, transporte</td>\n",
              "    </tr>\n",
              "    <tr>\n",
              "      <th>5</th>\n",
              "      <td>En una comunidad agrícola de Galilea, una empr...</td>\n",
              "      <td>Israël, agriculture, technologies, animaux, en...</td>\n",
              "    </tr>\n",
              "    <tr>\n",
              "      <th>6</th>\n",
              "      <td>Indonesia va a autorizar a partir de la semana...</td>\n",
              "      <td>Indonesia, gobierno, mercado, exportaciones, a...</td>\n",
              "    </tr>\n",
              "    <tr>\n",
              "      <th>7</th>\n",
              "      <td>El primer ministro italiano, Mario Draghi, adv...</td>\n",
              "      <td>Italia, Ucrania, Rusia, conflcito, petróleo, gas</td>\n",
              "    </tr>\n",
              "    <tr>\n",
              "      <th>8</th>\n",
              "      <td>Las autoridades sanitarias suecas anunciaron l...</td>\n",
              "      <td>UE, Canadá, USA, enfermedad, GB, Portugal, Sue...</td>\n",
              "    </tr>\n",
              "    <tr>\n",
              "      <th>9</th>\n",
              "      <td>China se pronunció este jueves en contra de qu...</td>\n",
              "      <td>China, Taiwán, política, EEUU, salud</td>\n",
              "    </tr>\n",
              "    <tr>\n",
              "      <th>10</th>\n",
              "      <td>El gobierno británico anunció el jueves nuevas...</td>\n",
              "      <td>GB, Rusia, Ucrania, conflicto, gobierno, diplo...</td>\n",
              "    </tr>\n",
              "    <tr>\n",
              "      <th>11</th>\n",
              "      <td>Rusia quiere cortar a Ucrania de su central nu...</td>\n",
              "      <td>Ucrania, Rusia, conflicto, nuclear</td>\n",
              "    </tr>\n",
              "    <tr>\n",
              "      <th>12</th>\n",
              "      <td>Alrededor de la mitad de las empresas extranje...</td>\n",
              "      <td>conflicto, petróleo, Ucrania, Rusia</td>\n",
              "    </tr>\n",
              "    <tr>\n",
              "      <th>13</th>\n",
              "      <td>La empresa española Telefónica anunció el juev...</td>\n",
              "      <td>España, telecomunicaciones, medios</td>\n",
              "    </tr>\n",
              "    <tr>\n",
              "      <th>14</th>\n",
              "      <td>El grupo aéreo IAG, casa matriz de British Air...</td>\n",
              "      <td>GB, España, aeroespacial, inversión, aviación</td>\n",
              "    </tr>\n",
              "    <tr>\n",
              "      <th>15</th>\n",
              "      <td>La compañía aérea de bajo costo Easyjet public...</td>\n",
              "      <td>GB, utilidades, aviación</td>\n",
              "    </tr>\n",
              "    <tr>\n",
              "      <th>16</th>\n",
              "      <td>Los países del G7 se reúnen este jueves y vier...</td>\n",
              "      <td>G7, Ucrania, conflicto, Rusia, finanzas, diplo...</td>\n",
              "    </tr>\n",
              "    <tr>\n",
              "      <th>17</th>\n",
              "      <td>None</td>\n",
              "      <td>procès, homicide, littérature, USA</td>\n",
              "    </tr>\n",
              "    <tr>\n",
              "      <th>18</th>\n",
              "      <td>Un japonés que recibió erróneamente 360.000 dó...</td>\n",
              "      <td>Japan, crime, virus, offbeat</td>\n",
              "    </tr>\n",
              "    <tr>\n",
              "      <th>19</th>\n",
              "      <td>Ante la escasez de leche en polvo para bebés e...</td>\n",
              "      <td>EEUU, economía, salud, desinformación, niños, ...</td>\n",
              "    </tr>\n",
              "    <tr>\n",
              "      <th>20</th>\n",
              "      <td>Estados Unidos montará un puente aéreo para im...</td>\n",
              "      <td>economía, niños, EEUU, alimentos, salud</td>\n",
              "    </tr>\n",
              "    <tr>\n",
              "      <th>21</th>\n",
              "      <td>None</td>\n",
              "      <td>Brasil, privatización, empresas, electricidad</td>\n",
              "    </tr>\n",
              "    <tr>\n",
              "      <th>22</th>\n",
              "      <td>Piensa en las personas que conoces y en cómo p...</td>\n",
              "      <td>Science, animal, dolphins, science</td>\n",
              "    </tr>\n",
              "    <tr>\n",
              "      <th>23</th>\n",
              "      <td>El proyecto de ley que establece una baja labo...</td>\n",
              "      <td>España, gobierno, legislación, salud</td>\n",
              "    </tr>\n",
              "  </tbody>\n",
              "</table>\n",
              "</div>\n",
              "      <button class=\"colab-df-convert\" onclick=\"convertToInteractive('df-bec27b91-6630-48dc-ab49-166141587d9e')\"\n",
              "              title=\"Convert this dataframe to an interactive table.\"\n",
              "              style=\"display:none;\">\n",
              "        \n",
              "  <svg xmlns=\"http://www.w3.org/2000/svg\" height=\"24px\"viewBox=\"0 0 24 24\"\n",
              "       width=\"24px\">\n",
              "    <path d=\"M0 0h24v24H0V0z\" fill=\"none\"/>\n",
              "    <path d=\"M18.56 5.44l.94 2.06.94-2.06 2.06-.94-2.06-.94-.94-2.06-.94 2.06-2.06.94zm-11 1L8.5 8.5l.94-2.06 2.06-.94-2.06-.94L8.5 2.5l-.94 2.06-2.06.94zm10 10l.94 2.06.94-2.06 2.06-.94-2.06-.94-.94-2.06-.94 2.06-2.06.94z\"/><path d=\"M17.41 7.96l-1.37-1.37c-.4-.4-.92-.59-1.43-.59-.52 0-1.04.2-1.43.59L10.3 9.45l-7.72 7.72c-.78.78-.78 2.05 0 2.83L4 21.41c.39.39.9.59 1.41.59.51 0 1.02-.2 1.41-.59l7.78-7.78 2.81-2.81c.8-.78.8-2.07 0-2.86zM5.41 20L4 18.59l7.72-7.72 1.47 1.35L5.41 20z\"/>\n",
              "  </svg>\n",
              "      </button>\n",
              "      \n",
              "  <style>\n",
              "    .colab-df-container {\n",
              "      display:flex;\n",
              "      flex-wrap:wrap;\n",
              "      gap: 12px;\n",
              "    }\n",
              "\n",
              "    .colab-df-convert {\n",
              "      background-color: #E8F0FE;\n",
              "      border: none;\n",
              "      border-radius: 50%;\n",
              "      cursor: pointer;\n",
              "      display: none;\n",
              "      fill: #1967D2;\n",
              "      height: 32px;\n",
              "      padding: 0 0 0 0;\n",
              "      width: 32px;\n",
              "    }\n",
              "\n",
              "    .colab-df-convert:hover {\n",
              "      background-color: #E2EBFA;\n",
              "      box-shadow: 0px 1px 2px rgba(60, 64, 67, 0.3), 0px 1px 3px 1px rgba(60, 64, 67, 0.15);\n",
              "      fill: #174EA6;\n",
              "    }\n",
              "\n",
              "    [theme=dark] .colab-df-convert {\n",
              "      background-color: #3B4455;\n",
              "      fill: #D2E3FC;\n",
              "    }\n",
              "\n",
              "    [theme=dark] .colab-df-convert:hover {\n",
              "      background-color: #434B5C;\n",
              "      box-shadow: 0px 1px 3px 1px rgba(0, 0, 0, 0.15);\n",
              "      filter: drop-shadow(0px 1px 2px rgba(0, 0, 0, 0.3));\n",
              "      fill: #FFFFFF;\n",
              "    }\n",
              "  </style>\n",
              "\n",
              "      <script>\n",
              "        const buttonEl =\n",
              "          document.querySelector('#df-bec27b91-6630-48dc-ab49-166141587d9e button.colab-df-convert');\n",
              "        buttonEl.style.display =\n",
              "          google.colab.kernel.accessAllowed ? 'block' : 'none';\n",
              "\n",
              "        async function convertToInteractive(key) {\n",
              "          const element = document.querySelector('#df-bec27b91-6630-48dc-ab49-166141587d9e');\n",
              "          const dataTable =\n",
              "            await google.colab.kernel.invokeFunction('convertToInteractive',\n",
              "                                                     [key], {});\n",
              "          if (!dataTable) return;\n",
              "\n",
              "          const docLinkHtml = 'Like what you see? Visit the ' +\n",
              "            '<a target=\"_blank\" href=https://colab.research.google.com/notebooks/data_table.ipynb>data table notebook</a>'\n",
              "            + ' to learn more about interactive tables.';\n",
              "          element.innerHTML = '';\n",
              "          dataTable['output_type'] = 'display_data';\n",
              "          await google.colab.output.renderOutput(dataTable, element);\n",
              "          const docLink = document.createElement('div');\n",
              "          docLink.innerHTML = docLinkHtml;\n",
              "          element.appendChild(docLink);\n",
              "        }\n",
              "      </script>\n",
              "    </div>\n",
              "  </div>\n",
              "  "
            ]
          },
          "metadata": {},
          "execution_count": 19
        }
      ]
    },
    {
      "cell_type": "code",
      "source": [
        "df.head(4) #select and print the first four rows"
      ],
      "metadata": {
        "colab": {
          "base_uri": "https://localhost:8080/",
          "height": 531
        },
        "id": "q0Y2Ly-kr5c_",
        "outputId": "c96630b0-398a-493d-e3aa-12489de0053c"
      },
      "execution_count": 20,
      "outputs": [
        {
          "output_type": "execute_result",
          "data": {
            "text/plain": [
              "                                              titulo  \\\n",
              "0  Jefe del OIEA ensalza \"avances notables\" en la...   \n",
              "1  La filial rusa de Google planea declararse en ...   \n",
              "2  Sri Lanka no podrá comenzar a pagar su deuda h...   \n",
              "3  La vacuna china anticovid Convidecia recibe la...   \n",
              "\n",
              "                                             resumen  \\\n",
              "0  El proceso de desmantelamiento de la central n...   \n",
              "1  La filial rusa de Google anunció su intención ...   \n",
              "2  Sri Lanka no podrá comenzar a pagar su deuda a...   \n",
              "3  La Organización Mundial de la Salud anunció el...   \n",
              "\n",
              "                                           palsclave  \\\n",
              "0                               nuclear, Japan, IAEA   \n",
              "1          Rusia, EEUU, conflicto, Ucrania, internet   \n",
              "2                     SriLanka, deuda, FMI, economía   \n",
              "3  pandemia, farmacéutica, ONU, epidemia, China, ...   \n",
              "\n",
              "                                              imagen  \\\n",
              "0  https://cdn.deperu.com/afp/fotos/2446d22bcf337...   \n",
              "1  https://cdn.deperu.com/afp/fotos/8b4eea9c9acc1...   \n",
              "2  https://cdn.deperu.com/afp/fotos/59bd24292e3ab...   \n",
              "3  https://cdn.deperu.com/afp/fotos/3b6696de4ee72...   \n",
              "\n",
              "                                         imagenpeque  \\\n",
              "0  https://cdn.deperu.com/afp/fotos/b669465a76ecc...   \n",
              "1  https://cdn.deperu.com/afp/fotos/c0abd33fa524d...   \n",
              "2  https://cdn.deperu.com/afp/fotos/b8d7123c6e6df...   \n",
              "3  https://cdn.deperu.com/afp/fotos/a80339d1ef080...   \n",
              "\n",
              "                                                 url  \\\n",
              "0  https://www.deperu.com/noticias/jefe-del-oiea-...   \n",
              "1  https://www.deperu.com/noticias/la-filial-rusa...   \n",
              "2  https://www.deperu.com/noticias/sri-lanka-no-p...   \n",
              "3  https://www.deperu.com/noticias/la-vacuna-chin...   \n",
              "\n",
              "                             fecha  \n",
              "0  Thu, 19 May 2022 09:17:08 -0500  \n",
              "1  Thu, 19 May 2022 08:09:14 -0500  \n",
              "2  Thu, 19 May 2022 07:54:09 -0500  \n",
              "3  Thu, 19 May 2022 07:13:23 -0500  "
            ],
            "text/html": [
              "\n",
              "  <div id=\"df-7bddac7e-0852-4c7c-9923-a8679d3cb7f6\">\n",
              "    <div class=\"colab-df-container\">\n",
              "      <div>\n",
              "<style scoped>\n",
              "    .dataframe tbody tr th:only-of-type {\n",
              "        vertical-align: middle;\n",
              "    }\n",
              "\n",
              "    .dataframe tbody tr th {\n",
              "        vertical-align: top;\n",
              "    }\n",
              "\n",
              "    .dataframe thead th {\n",
              "        text-align: right;\n",
              "    }\n",
              "</style>\n",
              "<table border=\"1\" class=\"dataframe\">\n",
              "  <thead>\n",
              "    <tr style=\"text-align: right;\">\n",
              "      <th></th>\n",
              "      <th>titulo</th>\n",
              "      <th>resumen</th>\n",
              "      <th>palsclave</th>\n",
              "      <th>imagen</th>\n",
              "      <th>imagenpeque</th>\n",
              "      <th>url</th>\n",
              "      <th>fecha</th>\n",
              "    </tr>\n",
              "  </thead>\n",
              "  <tbody>\n",
              "    <tr>\n",
              "      <th>0</th>\n",
              "      <td>Jefe del OIEA ensalza \"avances notables\" en la...</td>\n",
              "      <td>El proceso de desmantelamiento de la central n...</td>\n",
              "      <td>nuclear, Japan, IAEA</td>\n",
              "      <td>https://cdn.deperu.com/afp/fotos/2446d22bcf337...</td>\n",
              "      <td>https://cdn.deperu.com/afp/fotos/b669465a76ecc...</td>\n",
              "      <td>https://www.deperu.com/noticias/jefe-del-oiea-...</td>\n",
              "      <td>Thu, 19 May 2022 09:17:08 -0500</td>\n",
              "    </tr>\n",
              "    <tr>\n",
              "      <th>1</th>\n",
              "      <td>La filial rusa de Google planea declararse en ...</td>\n",
              "      <td>La filial rusa de Google anunció su intención ...</td>\n",
              "      <td>Rusia, EEUU, conflicto, Ucrania, internet</td>\n",
              "      <td>https://cdn.deperu.com/afp/fotos/8b4eea9c9acc1...</td>\n",
              "      <td>https://cdn.deperu.com/afp/fotos/c0abd33fa524d...</td>\n",
              "      <td>https://www.deperu.com/noticias/la-filial-rusa...</td>\n",
              "      <td>Thu, 19 May 2022 08:09:14 -0500</td>\n",
              "    </tr>\n",
              "    <tr>\n",
              "      <th>2</th>\n",
              "      <td>Sri Lanka no podrá comenzar a pagar su deuda h...</td>\n",
              "      <td>Sri Lanka no podrá comenzar a pagar su deuda a...</td>\n",
              "      <td>SriLanka, deuda, FMI, economía</td>\n",
              "      <td>https://cdn.deperu.com/afp/fotos/59bd24292e3ab...</td>\n",
              "      <td>https://cdn.deperu.com/afp/fotos/b8d7123c6e6df...</td>\n",
              "      <td>https://www.deperu.com/noticias/sri-lanka-no-p...</td>\n",
              "      <td>Thu, 19 May 2022 07:54:09 -0500</td>\n",
              "    </tr>\n",
              "    <tr>\n",
              "      <th>3</th>\n",
              "      <td>La vacuna china anticovid Convidecia recibe la...</td>\n",
              "      <td>La Organización Mundial de la Salud anunció el...</td>\n",
              "      <td>pandemia, farmacéutica, ONU, epidemia, China, ...</td>\n",
              "      <td>https://cdn.deperu.com/afp/fotos/3b6696de4ee72...</td>\n",
              "      <td>https://cdn.deperu.com/afp/fotos/a80339d1ef080...</td>\n",
              "      <td>https://www.deperu.com/noticias/la-vacuna-chin...</td>\n",
              "      <td>Thu, 19 May 2022 07:13:23 -0500</td>\n",
              "    </tr>\n",
              "  </tbody>\n",
              "</table>\n",
              "</div>\n",
              "      <button class=\"colab-df-convert\" onclick=\"convertToInteractive('df-7bddac7e-0852-4c7c-9923-a8679d3cb7f6')\"\n",
              "              title=\"Convert this dataframe to an interactive table.\"\n",
              "              style=\"display:none;\">\n",
              "        \n",
              "  <svg xmlns=\"http://www.w3.org/2000/svg\" height=\"24px\"viewBox=\"0 0 24 24\"\n",
              "       width=\"24px\">\n",
              "    <path d=\"M0 0h24v24H0V0z\" fill=\"none\"/>\n",
              "    <path d=\"M18.56 5.44l.94 2.06.94-2.06 2.06-.94-2.06-.94-.94-2.06-.94 2.06-2.06.94zm-11 1L8.5 8.5l.94-2.06 2.06-.94-2.06-.94L8.5 2.5l-.94 2.06-2.06.94zm10 10l.94 2.06.94-2.06 2.06-.94-2.06-.94-.94-2.06-.94 2.06-2.06.94z\"/><path d=\"M17.41 7.96l-1.37-1.37c-.4-.4-.92-.59-1.43-.59-.52 0-1.04.2-1.43.59L10.3 9.45l-7.72 7.72c-.78.78-.78 2.05 0 2.83L4 21.41c.39.39.9.59 1.41.59.51 0 1.02-.2 1.41-.59l7.78-7.78 2.81-2.81c.8-.78.8-2.07 0-2.86zM5.41 20L4 18.59l7.72-7.72 1.47 1.35L5.41 20z\"/>\n",
              "  </svg>\n",
              "      </button>\n",
              "      \n",
              "  <style>\n",
              "    .colab-df-container {\n",
              "      display:flex;\n",
              "      flex-wrap:wrap;\n",
              "      gap: 12px;\n",
              "    }\n",
              "\n",
              "    .colab-df-convert {\n",
              "      background-color: #E8F0FE;\n",
              "      border: none;\n",
              "      border-radius: 50%;\n",
              "      cursor: pointer;\n",
              "      display: none;\n",
              "      fill: #1967D2;\n",
              "      height: 32px;\n",
              "      padding: 0 0 0 0;\n",
              "      width: 32px;\n",
              "    }\n",
              "\n",
              "    .colab-df-convert:hover {\n",
              "      background-color: #E2EBFA;\n",
              "      box-shadow: 0px 1px 2px rgba(60, 64, 67, 0.3), 0px 1px 3px 1px rgba(60, 64, 67, 0.15);\n",
              "      fill: #174EA6;\n",
              "    }\n",
              "\n",
              "    [theme=dark] .colab-df-convert {\n",
              "      background-color: #3B4455;\n",
              "      fill: #D2E3FC;\n",
              "    }\n",
              "\n",
              "    [theme=dark] .colab-df-convert:hover {\n",
              "      background-color: #434B5C;\n",
              "      box-shadow: 0px 1px 3px 1px rgba(0, 0, 0, 0.15);\n",
              "      filter: drop-shadow(0px 1px 2px rgba(0, 0, 0, 0.3));\n",
              "      fill: #FFFFFF;\n",
              "    }\n",
              "  </style>\n",
              "\n",
              "      <script>\n",
              "        const buttonEl =\n",
              "          document.querySelector('#df-7bddac7e-0852-4c7c-9923-a8679d3cb7f6 button.colab-df-convert');\n",
              "        buttonEl.style.display =\n",
              "          google.colab.kernel.accessAllowed ? 'block' : 'none';\n",
              "\n",
              "        async function convertToInteractive(key) {\n",
              "          const element = document.querySelector('#df-7bddac7e-0852-4c7c-9923-a8679d3cb7f6');\n",
              "          const dataTable =\n",
              "            await google.colab.kernel.invokeFunction('convertToInteractive',\n",
              "                                                     [key], {});\n",
              "          if (!dataTable) return;\n",
              "\n",
              "          const docLinkHtml = 'Like what you see? Visit the ' +\n",
              "            '<a target=\"_blank\" href=https://colab.research.google.com/notebooks/data_table.ipynb>data table notebook</a>'\n",
              "            + ' to learn more about interactive tables.';\n",
              "          element.innerHTML = '';\n",
              "          dataTable['output_type'] = 'display_data';\n",
              "          await google.colab.output.renderOutput(dataTable, element);\n",
              "          const docLink = document.createElement('div');\n",
              "          docLink.innerHTML = docLinkHtml;\n",
              "          element.appendChild(docLink);\n",
              "        }\n",
              "      </script>\n",
              "    </div>\n",
              "  </div>\n",
              "  "
            ]
          },
          "metadata": {},
          "execution_count": 20
        }
      ]
    },
    {
      "cell_type": "code",
      "source": [
        "print(\"Don't have a good day.\\nHave a great day!\")"
      ],
      "metadata": {
        "colab": {
          "base_uri": "https://localhost:8080/"
        },
        "id": "NeUyexTd4TH9",
        "outputId": "36d2c29d-f6d4-4e28-fb92-1f3708a696b0"
      },
      "execution_count": 21,
      "outputs": [
        {
          "output_type": "stream",
          "name": "stdout",
          "text": [
            "Don't have a good day.\n",
            "Have a great day!\n"
          ]
        }
      ]
    }
  ]
}